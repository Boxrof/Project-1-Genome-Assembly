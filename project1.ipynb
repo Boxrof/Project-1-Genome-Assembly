{
 "cells": [
  {
   "cell_type": "markdown",
   "id": "7da87395",
   "metadata": {},
   "source": [
    "# Project 1: Assembling Genomes"
   ]
  },
  {
   "cell_type": "markdown",
   "id": "a9645da6",
   "metadata": {},
   "source": [
    "\n",
    "   <div class=\"alert alert-block alert-danger\">\n",
    "    <center>Due: <b>Tuesday, 8 February, 4:59pm</b>.</center> \n",
    "   </div>\n",
    "   \n",
    "   <div class=\"alert alert-block alert-warning\">\n",
    "   <center>\n",
    "       <b>Collaboration and Resource Policy</b>\n",
    "    </center>\n",
    "    For this assignment, you are encouraged to work with one other person. Your team must satisfy the constraints mentioned in <a href=\"https://www.dropbox.com/s/g6z2xncwc4jsplp/csbio-class2-inked.pdf?dl=0\">Class 2</a>.\n",
    "    \n",
    "   1. You went to different high schools.\n",
    "   2. You and your partner have different answers to <em>at least one</em> of these questions:\n",
    "       - What country were you born in?\n",
    "       - Have you taken any biology courses at UVA?\n",
    "       - Have you taken cs3102?\n",
    "       - Have you taken cs4102?\n",
    "    \n",
    "We expect most students will have the best learning experience on this assignment by working with a partner, but if you prefer to work alone it is okay to do this assignment on your own.\n",
    "    \n",
    "You are permitted (actually _encouraged_) to discuss these problems with anyone you want, including other students in the class. If you do discuss the specific questions in the assignment with anyone other than your assignment partner and the course staff, though, you should list them in the _External resources used_ section below.\n",
    "    \n",
    "You are welcome to use any resources you want for this assignment, other than ones that would defeat the purpose of the assignment. This means you should not look at answers or code from any other students in the class (other than your collaboration with your partner), and if you find code that implements the problem you are being asked to do for the assignment, you should not use that code. You should document all external resource you use that are not part of the course materials in the _External resources used_ section below."
   ]
  },
  {
   "cell_type": "markdown",
   "id": "14179769",
   "metadata": {},
   "source": [
    "**Team submitting this assignment:**  \n",
    "<div class=\"alert alert-success\">\n",
    "    <b><em>Mohit Srivastav (mvs2dq) & Promotto Islam (pti9ea)</em></b>\n",
    "</div>\n",
    "\n",
    "**External resources used:** \n",
    "<div class=\"alert alert-success\">\n",
    "<em>It is not necessary to list the course materials, but if you used any other resources, including discussing problems with students not on your team, list them here.</em>\n",
    "</div>"
   ]
  },
  {
   "cell_type": "markdown",
   "id": "57bc46a1",
   "metadata": {},
   "source": [
    "In this project, we will explore genome assembly — the process of determining the order of nucleotides from fragmented reads that are produced by sequencing machines. \n",
    "\n",
    "Genome assembly maps to a very well defined computer science problem, but can get quite complicated, as problems such as full sequence coverage, finding a good length for reads (the $k$ in $k$-mer), and sequencing errors present challenges for sequencing analysis and accuracy. For the required problems (ones everyone is expected to solve), you will be able to assume perfect coverage and no read errors; for the \"challenge\" problem (that is considered a bonus, and not something we expect everyone to be able to solve, and perhaps may not even be feasible for anyone to solve) you will not be able to rely on such assumptions."
   ]
  },
  {
   "cell_type": "markdown",
   "id": "b701651a",
   "metadata": {},
   "source": [
    " <div class=\"alert alert-block alert-warning\">\n",
    "    \n",
    "<b>Submission</b>: You should work on this assignment by forking the provided Project 1 repository (you probably already did this, following the instructions posted at [https://computingbiology.github.io/project1](https://computingbiology.github.io/project1). Add the other teammate to as a collaborator with write access (also under the Settings tab) to this repository.\n",
    "    \n",
    "You should answer the questions and write your code in this Jupyter Notebook. (We don't expect you to need to use any external files or organize your code outside of the notebook, but if you do, make sure to put everything needed to run your code in your repository.) Parts where you are expected to provide and answer (which could be text that can be written in markdown format in the notebook or Python code that runs in the notebook) are marked in green.\n",
    "        \n",
    "When you are ready to submit the assignment, you should create a release of the version you are submitting ([github's directions for how to create a release](https://docs.github.com/en/repositories/releasing-projects-on-github/managing-releases-in-a-repository)) tagged as `submit`. After you've done this, send a message in slack to a channel that includes both team members (so the one sending this message should include the other team member) and all of the course staff (`dave`, `Hyun Jae Cho`, and `Anshuman Suri`) and a link to your repository (feel free to add any other useful comments if you want, but the link to your submission repository is sufficient)."
   ]
  },
  {
   "cell_type": "markdown",
   "id": "6ddc5cc5",
   "metadata": {},
   "source": [
    "## Getting Started"
   ]
  },
  {
   "cell_type": "markdown",
   "id": "65e42801",
   "metadata": {},
   "source": [
    "1. Install basic required packages, should be run only once. You may need to restart the jupyter python kernel (under the Kernel menu) after this. (You can execute this directly in the notebook but running the command below.)"
   ]
  },
  {
   "cell_type": "code",
   "execution_count": 1,
   "id": "9df18fe5",
   "metadata": {},
   "outputs": [
    {
     "name": "stdout",
     "output_type": "stream",
     "text": [
      "Requirement already satisfied: gvmagic in /home/boxrof/miniconda3/envs/phys56xx/lib/python3.9/site-packages (from -r requirements.txt (line 1)) (0.5)\n",
      "Requirement already satisfied: numpy in /home/boxrof/miniconda3/envs/phys56xx/lib/python3.9/site-packages (from -r requirements.txt (line 2)) (1.20.3)\n",
      "Requirement already satisfied: matplotlib in /home/boxrof/miniconda3/envs/phys56xx/lib/python3.9/site-packages (from -r requirements.txt (line 3)) (3.4.1)\n",
      "Requirement already satisfied: pydot in /home/boxrof/miniconda3/envs/phys56xx/lib/python3.9/site-packages (from -r requirements.txt (line 4)) (1.4.2)\n",
      "Requirement already satisfied: kiwisolver>=1.0.1 in /home/boxrof/miniconda3/envs/phys56xx/lib/python3.9/site-packages (from matplotlib->-r requirements.txt (line 3)) (1.3.1)\n",
      "Requirement already satisfied: cycler>=0.10 in /home/boxrof/miniconda3/envs/phys56xx/lib/python3.9/site-packages (from matplotlib->-r requirements.txt (line 3)) (0.10.0)\n",
      "Requirement already satisfied: python-dateutil>=2.7 in /home/boxrof/miniconda3/envs/phys56xx/lib/python3.9/site-packages (from matplotlib->-r requirements.txt (line 3)) (2.8.1)\n",
      "Requirement already satisfied: pillow>=6.2.0 in /home/boxrof/miniconda3/envs/phys56xx/lib/python3.9/site-packages (from matplotlib->-r requirements.txt (line 3)) (8.1.2)\n",
      "Requirement already satisfied: pyparsing>=2.2.1 in /home/boxrof/miniconda3/envs/phys56xx/lib/python3.9/site-packages (from matplotlib->-r requirements.txt (line 3)) (2.4.7)\n",
      "Requirement already satisfied: six in /home/boxrof/miniconda3/envs/phys56xx/lib/python3.9/site-packages (from cycler>=0.10->matplotlib->-r requirements.txt (line 3)) (1.15.0)\n",
      "Note: you may need to restart the kernel to use updated packages.\n"
     ]
    }
   ],
   "source": [
    "%pip install -r requirements.txt"
   ]
  },
  {
   "cell_type": "markdown",
   "id": "68cf7d92",
   "metadata": {},
   "source": [
    "2. Make sure you have [graphviz](https://graphviz.org/) installed on your system. (On a Mac OS X, `brew install graphviz`. For other platforms, see [_https://graphviz.org/download/_](https://graphviz.org/download/).)"
   ]
  },
  {
   "cell_type": "code",
   "execution_count": 2,
   "id": "d39abe1f",
   "metadata": {},
   "outputs": [],
   "source": [
    "import collections\n",
    "import matplotlib.pyplot as plt\n",
    "\n",
    "import utils"
   ]
  },
  {
   "cell_type": "markdown",
   "id": "5554e2bc",
   "metadata": {},
   "source": [
    "## Part 1: Assembling the TeleTubby Genome"
   ]
  },
  {
   "cell_type": "markdown",
   "id": "7985c6cb",
   "metadata": {},
   "source": [
    "For this part, you're given reads generated while trying to sequence the DNA of a mysterious unknown organism with a _tiny_ genome. Some of the course staff is not sure what a TeleTubby is, but I've been assured that no cute creatures were harmed in producing this data (which was generated synthetically).\n",
    "\n",
    "By answering the following questions, you will learn how to assemble the original genome sequence from sequence reads.\n",
    "\n",
    "Sequencing data is often stored in the FASTQ file format, with is a simple ASCII format that is somewhat human-readable. \n",
    "\n",
    "In _TeleTubby.fastq_ (which is included in the repository you forked), you will find the data that was read from the TeleTubby genome. Each four lines of the file repeat the same pattern. For example,\n",
    "```\n",
    "@TeleTubby Genome: Project 1\n",
    "TAAAATGG\n",
    "+\n",
    "HAICDF5I\n",
    "```\n",
    "The first line contains the metadata that encodes the name of the read, the experiment type, the kind of sequencing machine used, etc. \n",
    "\n",
    "The second line is the sequence of bases that was read. \n",
    "\n",
    "The third line is just a placeholder.\n",
    "\n",
    "The fourth line is a sequence of base qualities that encodes the qualities for the corresponding bases in the sequence line. We will discuss and use this for Problem 2."
   ]
  },
  {
   "cell_type": "markdown",
   "id": "744fd5da",
   "metadata": {},
   "source": [
    "Read in the data from `TeleTubby.fastq`:"
   ]
  },
  {
   "cell_type": "code",
   "execution_count": 3,
   "id": "04406782",
   "metadata": {},
   "outputs": [],
   "source": [
    "# Read sequence reads (error-free) from file\n",
    "sequence_reads, qualities = utils.read_fastq('TeleTubby.fastq')"
   ]
  },
  {
   "cell_type": "code",
   "execution_count": 5,
   "id": "5cfa3a6a",
   "metadata": {},
   "outputs": [
    {
     "data": {
      "text/plain": [
       "['ACCACGTA',\n",
       " 'CCACCACG',\n",
       " 'CGATGGTA',\n",
       " 'TTTTGGTC',\n",
       " 'ACTCGGAG',\n",
       " 'CGGAGGAT',\n",
       " 'ATAGGTGA',\n",
       " 'TAAAATGG',\n",
       " 'TATGCCAA',\n",
       " 'TACAGGTG',\n",
       " 'CAACGCTT',\n",
       " 'TGACTCGG',\n",
       " 'AGGTGTCG',\n",
       " 'ACGTATCC',\n",
       " 'TGGTCGTA',\n",
       " 'CCAACGCT',\n",
       " 'TGTTGATA',\n",
       " 'CTCGGAGG',\n",
       " 'TGATAAAA',\n",
       " 'GGCCACAT',\n",
       " 'ATAATTTT',\n",
       " 'ATGGTAAA',\n",
       " 'GTAAACCT',\n",
       " 'ACAGGTGT',\n",
       " 'ATCCCCCG',\n",
       " 'ATAAAATG',\n",
       " 'AATGGCCA',\n",
       " 'AGGTGACT',\n",
       " 'GATGGTAA',\n",
       " 'GCACATGG',\n",
       " 'GGATCACT',\n",
       " 'TGATAGGT',\n",
       " 'CACCACGT',\n",
       " 'ATCACTTT',\n",
       " 'CGTACATC',\n",
       " 'TTAACGAC',\n",
       " 'TCGTGTTA',\n",
       " 'TCGTACAT',\n",
       " 'CACATGGC',\n",
       " 'CTCCGGTA',\n",
       " 'AGTGATAG',\n",
       " 'TCATGCAC',\n",
       " 'TGTCATGC',\n",
       " 'CACATAAT',\n",
       " 'ACGCTTAC',\n",
       " 'TTGATAAA',\n",
       " 'CCCGCGCA',\n",
       " 'CCACGTAT',\n",
       " 'GTCGATGG',\n",
       " 'GCATCGTG',\n",
       " 'ACTTTAAC',\n",
       " 'TACCGACG',\n",
       " 'TCGAGTGA',\n",
       " 'AGGGGATT',\n",
       " 'TCGTACAG',\n",
       " 'GGAGGATC',\n",
       " 'CACGTATC',\n",
       " 'CACTTTAA',\n",
       " 'CTACCGAC',\n",
       " 'CCGCGCAT',\n",
       " 'TACATCCC',\n",
       " 'CCACATAA',\n",
       " 'CTTTAACG',\n",
       " 'ACGACCAC',\n",
       " 'CGAGTGAT',\n",
       " 'ATAGGGGA',\n",
       " 'GGTCGTAC',\n",
       " 'CATCGTGT',\n",
       " 'TGTGTCGA',\n",
       " 'ATAAAATG',\n",
       " 'GTGTCGAT',\n",
       " 'GTCGTACA',\n",
       " 'CGCGCATC',\n",
       " 'CCCCACCA',\n",
       " 'CCACGGAC',\n",
       " 'GGTAAACC',\n",
       " 'TGGCCACA',\n",
       " 'AAAATGGC',\n",
       " 'TTTAACGA',\n",
       " 'TACATAGG',\n",
       " 'AATGTCAT',\n",
       " 'TCGGAGGA',\n",
       " 'GATAGGTG',\n",
       " 'CATAATTT',\n",
       " 'AAACCTGT',\n",
       " 'ATTGTGTC',\n",
       " 'GTGTCGAG',\n",
       " 'CATCGTAC',\n",
       " 'CCGACGAA',\n",
       " 'TAACGACC',\n",
       " 'GTGACTCG',\n",
       " 'TTGTGTCG',\n",
       " 'GACGAATG',\n",
       " 'ATGGCCCC',\n",
       " 'AATTTTTG',\n",
       " 'ATCCATCG',\n",
       " 'CTGTTGAT',\n",
       " 'ATCGTACA',\n",
       " 'ACGGACTC',\n",
       " 'TGGTAAAC',\n",
       " 'CGTATCCA',\n",
       " 'GTATCCAT',\n",
       " 'GCCAACGC',\n",
       " 'GTCATGCA',\n",
       " 'ACATAATT',\n",
       " 'GATCACTT',\n",
       " 'GTGATAGG',\n",
       " 'TGTCGATG',\n",
       " 'CGGACTCC',\n",
       " 'GAGTGATA',\n",
       " 'AACGCTTA',\n",
       " 'GAGGATCA',\n",
       " 'CGAATGTC',\n",
       " 'ACATAGGG',\n",
       " 'CATCCCCC',\n",
       " 'GTACATCC',\n",
       " 'TGCCAACG',\n",
       " 'AACCTGTT',\n",
       " 'CGTGTTAT',\n",
       " 'GGGATTGT',\n",
       " 'AGGATCAC',\n",
       " 'TTTTTGGT',\n",
       " 'TAATTTTT',\n",
       " 'TAGGGGAT',\n",
       " 'GGATTGTG',\n",
       " 'GGTGACTC',\n",
       " 'CCGGTAGA',\n",
       " 'ATCGTGTT',\n",
       " 'ACCGACGA',\n",
       " 'ATGCCAAC',\n",
       " 'CGACCACG',\n",
       " 'TCGATGGT',\n",
       " 'GTTGATAA',\n",
       " 'TTATGCCA',\n",
       " 'GGACTCCG',\n",
       " 'CCTACCGA',\n",
       " 'CGACGAAT',\n",
       " 'ACTCCGGT',\n",
       " 'CATAGGGG',\n",
       " 'TGCACATG',\n",
       " 'ACCTGTTG',\n",
       " 'GATAAAAT',\n",
       " 'TCCGGTAG',\n",
       " 'TAATTTTT',\n",
       " 'GACTCGGA',\n",
       " 'CATGCACA',\n",
       " 'ACATGGCC',\n",
       " 'GGCCCCAC',\n",
       " 'CCTGTTGA',\n",
       " 'GTGTTATG',\n",
       " 'CAGGTGTC',\n",
       " 'TTTGGTCG',\n",
       " 'GAATGTCA',\n",
       " 'TTACATAG',\n",
       " 'TATCCATC',\n",
       " 'GCGCATCG',\n",
       " 'TAAACCTG',\n",
       " 'CCATCGTA',\n",
       " 'TTGGTCGT',\n",
       " 'ACCACGGA',\n",
       " 'GATTGTGT',\n",
       " 'ATTTTTGG',\n",
       " 'TGGCCCCA',\n",
       " 'GCCCCACC',\n",
       " 'TGTCGAGT',\n",
       " 'CCCACCAC',\n",
       " 'ACGAATGT',\n",
       " 'AACGACCA',\n",
       " 'CTTACATA',\n",
       " 'GTACAGGT',\n",
       " 'TCCCCCGC',\n",
       " 'TGTTATGC',\n",
       " 'CGCTTACA',\n",
       " 'GGGGATTG',\n",
       " 'CCCCCGCG',\n",
       " 'GACCACGG',\n",
       " 'GCCACATA',\n",
       " 'GCTTACAT',\n",
       " 'CACGGACT',\n",
       " 'ATGGCCAC',\n",
       " 'CGTACAGG',\n",
       " 'CGCATCGT',\n",
       " 'TCACTTTA',\n",
       " 'GTCGAGTG',\n",
       " 'CCCCGCGC',\n",
       " 'ACATCCCC',\n",
       " 'CATGGCCC',\n",
       " 'GGTGTCGA',\n",
       " 'GACTCCGG',\n",
       " 'AAATGGCC',\n",
       " 'GTTATGCC',\n",
       " 'ATGCACAT',\n",
       " 'TAGGTGAC',\n",
       " 'ATGTCATG',\n",
       " 'GTGATAGG',\n",
       " 'TCCATCGT']"
      ]
     },
     "execution_count": 5,
     "metadata": {},
     "output_type": "execute_result"
    }
   ],
   "source": [
    "sequence_reads"
   ]
  },
  {
   "cell_type": "markdown",
   "id": "69527f9b",
   "metadata": {},
   "source": [
    "### Melting Temperature\n",
    "\n",
    "The GC-content (or the ratio of G and C nucleotides) is related to the melting temperature of a DNA double helix structure. \n",
    "\n",
    "The following equation can be used to estimate the melting temperature (in degrees Celsius) of DNA for a particular sequence:\n",
    "\n",
    "\\begin{equation*}\n",
    "t_m = 64.9+0.41(\\%GC)-\\frac{500}{\\text{length of sequence}}\n",
    "\\end{equation*}\n",
    "\n",
    "As a reference, the human genome is known to have between 35%-60% GC-content. \n",
    "\n",
    "<div class=\"alert alert-success\">\n",
    "\n",
    "**Problem 1.** Calculate the melting temperature for the TeleTubby genome using the formula above. Assume that the sequence is 200 nucleotides long, and that the provided read data has equal coverage everywhere so the G-C distribution in the reads is very close to the actual G-C distribution for the genome. \n",
    "    </div>"
   ]
  },
  {
   "cell_type": "code",
   "execution_count": 6,
   "id": "9496e7fb",
   "metadata": {},
   "outputs": [],
   "source": [
    "def GC_percent(sequence_reads):\n",
    "    tot_acid = 0\n",
    "    tot_GC = 0\n",
    "    for sequence in sequence_reads:\n",
    "        for acid in sequence:\n",
    "            if acid == 'C' or acid == 'G':\n",
    "                tot_GC += 1\n",
    "            tot_acid += 1\n",
    "    return tot_GC/tot_acid*100, tot_acid"
   ]
  },
  {
   "cell_type": "code",
   "execution_count": 7,
   "id": "47f4f47b",
   "metadata": {},
   "outputs": [
    {
     "name": "stdout",
     "output_type": "stream",
     "text": [
      "The melting temperature is: 85.02882653061225 degrees C\n"
     ]
    }
   ],
   "source": [
    "gc, seq_len = GC_percent(sequence_reads)\n",
    "print(\"The melting temperature is:\", 64.9 + 0.41*gc - (500/seq_len), \"degrees C\")"
   ]
  },
  {
   "cell_type": "markdown",
   "id": "72723374",
   "metadata": {},
   "source": [
    "## Interpreting Read Quality"
   ]
  },
  {
   "cell_type": "markdown",
   "id": "e9a67a93",
   "metadata": {},
   "source": [
    "Phred33 quality scores are represented as the character with an ASCII code equal to its value + 33 (to make them easy to print alongside genome sequences). The Phred scores $Q$ are related to error probabilities $P$ as: $Q = -10 \\log_{10}(P)$. The table linked here provides a mapping from the Phred values provided in a fastq file and the $Q$ values: [Quality Score Encoding](https://support.illumina.com/help/BaseSpace_OLH_009008/Content/Source/Informatics/BS/QualityScoreEncoding_swBS.htm) \n",
    "\n",
    "<div class=\"alert alert-success\">\n",
    "    \n",
    "**Problem 2.** Using the Phred scores, identify the _least likely to be correct_ read in the TeleTubby.fastq data, which is the read with the lowest probability that it contains _no_ errors.\n",
    "\n",
    "</div>"
   ]
  },
  {
   "cell_type": "code",
   "execution_count": 8,
   "id": "76758368",
   "metadata": {},
   "outputs": [
    {
     "name": "stdout",
     "output_type": "stream",
     "text": [
      "The seqence CCATCGTA has the lowest probability that it contains no errors with a probability of 0.001307810616351377 .\n"
     ]
    }
   ],
   "source": [
    "# Write your code for Problem 2 here. \n",
    "# It should output the read (nucleotide sequence) with the lowest probability of containing no errors.\n",
    "\n",
    "def read_quality(qualities):\n",
    "    lowest_prob_sum = 1\n",
    "    index = 0\n",
    "    lowest_index = 0\n",
    "    for q in qualities:\n",
    "        prob_sum = 0\n",
    "        for letter in q:\n",
    "            #qscore + 33 = ASCII \n",
    "            #P =  10^(-q/10)\n",
    "            qscore = ord(letter)-33\n",
    "            prob_sum+=(10**(-qscore/10))\n",
    "        # print(prob_sum)\n",
    "        if prob_sum < lowest_prob_sum:\n",
    "            lowest_prob_sum = prob_sum\n",
    "            lowest_index = index\n",
    "        index+=1\n",
    "    return lowest_prob_sum,lowest_index\n",
    "prob,index = read_quality(qualities)\n",
    "# print(read_quality(qualities))\n",
    "# print(qualities)\n",
    "print('The seqence',sequence_reads[index],'has the lowest probability that it contains no errors with a probability of',prob,'.')\n",
    "    "
   ]
  },
  {
   "cell_type": "markdown",
   "id": "9d9abeb9",
   "metadata": {},
   "source": [
    "Note: For the following problems, you can ignore the read quality scores, and safely assume there are no actual errors in the provided TeleTubby reads."
   ]
  },
  {
   "cell_type": "markdown",
   "id": "8e55395f",
   "metadata": {},
   "source": [
    "## Frequency analysis\n",
    "\n",
    "Looking at repetitions in the sequence can be helpful in estimating the \"redudancy\" in the organisms. Eucaryote genomes have a lot of redundancy, while smaller organisms like bacteria have highly packed genomes. One heuristic to estimate this before actually performing the assembly could be looking at how often certain $k$-mers are repeated.\n",
    "\n",
    "<div class=\"alert alert-success\">\n",
    "    \n",
    "**Problem 3.**\n",
    "    Print out the 3 most frequent <em>k</em>-mers in the TeleTubby reads with their frequencies. (As in Problem 1, doing this from the reads only produces the same result as from the genome if the read coverage is equal everywhere, but it should be a close estimate.)\n",
    "</div>"
   ]
  },
  {
   "cell_type": "code",
   "execution_count": 14,
   "id": "bdbd6bc8",
   "metadata": {},
   "outputs": [
    {
     "name": "stdout",
     "output_type": "stream",
     "text": [
      "Most frequent k-mers in sequence:\n",
      "('TAATTTTT', 2)\n",
      "('GTGATAGG', 2)\n",
      "('ATAAAATG', 2)\n"
     ]
    }
   ],
   "source": [
    "# Your code here\n",
    "def freq_analysis(k,sequence_reads):\n",
    "#     print(sequence_reads)\n",
    "    if k <= len(sequence_reads[0]):\n",
    "        all_kmer = {}\n",
    "        for read in sequence_reads:\n",
    "            i = 0\n",
    "            while i+k <= len(read):\n",
    "                kmer = read[i:i+k]\n",
    "                if kmer in all_kmer:\n",
    "                    all_kmer[kmer]+=1\n",
    "                else:\n",
    "                    all_kmer[kmer]=1\n",
    "                i+=1\n",
    "        return(all_kmer)\n",
    "    else:\n",
    "        return('k too large')\n",
    "total_kmer_in_seq = freq_analysis(len(sequence_reads[0]),sequence_reads) #Change first parameter as needed (also changed k due to email chain in discussion)\n",
    "try:\n",
    "    sorted_kmer = sorted(total_kmer_in_seq.items(), key = lambda x:x[1])\n",
    "#     print(sorted_kmer)\n",
    "    print('Most frequent k-mers in sequence:')\n",
    "    print(sorted_kmer[-1])\n",
    "    print(sorted_kmer[-2])\n",
    "    print(sorted_kmer[-3])\n",
    "except:\n",
    "    print('Change value of k')"
   ]
  },
  {
   "cell_type": "markdown",
   "id": "728a612b",
   "metadata": {},
   "source": [
    "## Greedy Assembly"
   ]
  },
  {
   "cell_type": "markdown",
   "id": "36c041ab",
   "metadata": {},
   "source": [
    "Given a set of sequence fragments, the objective of assembly can be viewed as finding the shortest sequence that contains all the fragments.\n",
    "\n",
    "One of the approaches to assemble the genome from the given reads is a greedy algorithm:\n",
    "\n",
    "```\n",
    "while (len(fragments) > 1):\n",
    "   calculate pairwise alignments of all pairs of fragments\n",
    "   merge the two fragments with the largest overlap\n",
    "genome = fragment[0] # the single remaining fragment is the genome\n",
    "```\n"
   ]
  },
  {
   "cell_type": "markdown",
   "id": "35f6e176",
   "metadata": {},
   "source": [
    "<div class=\"alert alert-success\">\n",
    "    \n",
    "**Problem 4 (a)**. What would the runtime be of this algorithm, given $n$ $k$-mer reads? (If you are not sure how to express your answer to this question, review [_Cost of Computation_](https://computingbiology.github.io/complexity/).)\n",
    "    </div>"
   ]
  },
  {
   "cell_type": "markdown",
   "id": "93985b9f",
   "metadata": {},
   "source": [
    "<i>Answer</i>: O(n log(n)). This is because calculating the pairwise alignments takes n time, while the combinining of the fragments takes log(n) runs (since you are doubling the size of the fragments each time). Hence the runtime."
   ]
  },
  {
   "cell_type": "markdown",
   "id": "6d868a87",
   "metadata": {},
   "source": [
    "<div class=\"alert alert-success\">\n",
    "\n",
    "**Problem 4 (b)**. Is this algorithm guaranteed to find the correct genome? (A good answer will define what _correct_ means here, and explain why the algorithm is or is not guaranteed to find it.)"
   ]
  },
  {
   "cell_type": "markdown",
   "id": "12bfc75b",
   "metadata": {},
   "source": [
    "<i>Answer</i>:"
   ]
  },
  {
   "cell_type": "markdown",
   "id": "44685e7e",
   "metadata": {},
   "source": [
    "## Graph-based Assembly"
   ]
  },
  {
   "cell_type": "markdown",
   "id": "c9d33cc7",
   "metadata": {},
   "source": [
    "Graphs for genome assembly can be constructed in two ways:\n",
    "\n",
    "- de Bruijn graph: Processing $k-$mers as nodes, with $(k-1)-$mers as edges, and\n",
    "- Overlap graph: Processing $k-$mers as edges, with $(k-1)-$mers as nodes.\n",
    "\n",
    "A de Bruijn graph can be processed to find Euler paths, while Overlap graphs can be processed to find Hamiltonian paths. Both of these methods can be used reconstruct the original genome.\n",
    "\n",
    "<div class=\"alert alert-success\">\n",
    "    \n",
    "**Problem 5.**  Use one of these two techniques to reconstruct the TeleTubby genome from the provided sequence reads. \n",
    "    \n",
    "</div>\n",
    "    \n",
    "We have provided some template code below that may be helpful (but feel free to ignore this is you prefer)."
   ]
  },
  {
   "cell_type": "code",
   "execution_count": 31,
   "id": "c50bc332",
   "metadata": {},
   "outputs": [],
   "source": [
    "# # Read reads into graph\n",
    "# # \"Each read is a 8-mer\"\n",
    "# def build_graph(k_mers):\n",
    "#     edges = []\n",
    "#     nodes = set()\n",
    "#     # k = len(k_mers[0])\n",
    "#     # print(k_mers)\n",
    "#     for read in k_mers:\n",
    "#         # print(read)\n",
    "#         nodes.add(read[:-1])\n",
    "#         nodes.add(read[1:])\n",
    "#         edges.append([read[:-1],read[1:]])\n",
    "#         # print(nodes)\n",
    "#         # break\n",
    "#     # print(nodes)\n",
    "#     # Your code here\n",
    "#     # print(edges)\n",
    "#     return nodes, edges"
   ]
  },
  {
   "cell_type": "code",
   "execution_count": 156,
   "id": "4dddd4da",
   "metadata": {},
   "outputs": [],
   "source": [
    "def Euler_Check(nodes, edges):\n",
    "    \"\"\"Function that takes in the nodes and edges, \n",
    "    then spits out whether an Eulerian path is available\n",
    "    and a revised set of edges if you need to connect two ends to help make cycles\n",
    "    \"\"\"\n",
    "    nodes2 = dict.fromkeys(nodes, 0) #initializes a dictionary with in - out as the value\n",
    "    for edge in edges:\n",
    "        nodes2[edge[0]] -= 1 #edge goes out node\n",
    "        nodes2[edge[1]] += 1 #edge goes in node\n",
    "    \n",
    "    nodeSum = 0\n",
    "    connection = [None, None, None] #this connects two nodes that are at the ends\n",
    "    for node in nodes2:\n",
    "        nodeSum += nodes2[node]\n",
    "        if nodes2[node] == 1:\n",
    "            connection[0] = node\n",
    "        elif nodes2[node] == -1:\n",
    "            connection[1] = node\n",
    "            \n",
    "    if connection[0] != None and connection[1] != None:\n",
    "        connection[2] = connection[0] + connection[1][1:]\n",
    "    \n",
    "    edges2 = edges #just so you don't modify edges from before\n",
    "    if connection[0] != None and connection[1] != None:\n",
    "        edges2 = edges + [tuple(connection)] #adds a connector\n",
    "\n",
    "    if nodeSum != 0:\n",
    "        return False, None\n",
    "    else:\n",
    "        return True, edges2"
   ]
  },
  {
   "cell_type": "code",
   "execution_count": 162,
   "id": "db3dfe4f",
   "metadata": {},
   "outputs": [],
   "source": [
    "def build_graph(sequence_reads):\n",
    "    \"\"\"Compiles all the nodes and edges\n",
    "    also uses the Euler_Check function to add any necessary edges and check if the graph is Eulerian\"\"\"\n",
    "    k = len(sequence_reads[0])\n",
    "    edges = []\n",
    "    nodes = set()\n",
    "    for read in sequence_reads:\n",
    "        i = 0\n",
    "        while i+k <= len(read):\n",
    "            tempNode1 = read[i:i+k - 1] #first node of (k-1) mer\n",
    "            tempNode2 = read[i+1:i+k] #second node of (k-1) mer\n",
    "\n",
    "            edges.append((tempNode1, tempNode2, read[i:i+k])) #edges are tuples of node1, node2, and value\n",
    "            nodes.add(tempNode1) \n",
    "            nodes.add(tempNode2)\n",
    "            i += 1\n",
    "    check, edges = Euler_Check(nodes, edges)\n",
    "    if check:\n",
    "        print(\"Eulerian Graph Found!\")\n",
    "        return list(nodes), edges\n",
    "    else:\n",
    "        print(\"Graph not Eulerian!\")\n",
    "        return None, None"
   ]
  },
  {
   "cell_type": "code",
   "execution_count": 165,
   "id": "f60e36d1",
   "metadata": {},
   "outputs": [
    {
     "name": "stdout",
     "output_type": "stream",
     "text": [
      "Eulerian Graph Found!\n"
     ]
    }
   ],
   "source": [
    "# nodes, edges = build_graph(sequence_reads)\n",
    "nodes, edges = build_graph(['AAT','ATG','ATG','ATG','CAT','CCA','GAT','GCC','GGA','GGG','GTT','TAA','TGC','TGG','TGT']) #example from reading"
   ]
  },
  {
   "cell_type": "code",
   "execution_count": 166,
   "id": "07e59ab6",
   "metadata": {
    "scrolled": true
   },
   "outputs": [
    {
     "name": "stdout",
     "output_type": "stream",
     "text": [
      "('n1', 'n2', 'edge')\n",
      "--------------------\n",
      "('AA', 'AT', 'AAT')\n",
      "('AT', 'TG', 'ATG')\n",
      "('AT', 'TG', 'ATG')\n",
      "('AT', 'TG', 'ATG')\n",
      "('CA', 'AT', 'CAT')\n",
      "('CC', 'CA', 'CCA')\n",
      "('GA', 'AT', 'GAT')\n",
      "('GC', 'CC', 'GCC')\n",
      "('GG', 'GA', 'GGA')\n",
      "('GG', 'GG', 'GGG')\n",
      "('GT', 'TT', 'GTT')\n",
      "('TA', 'AA', 'TAA')\n",
      "('TG', 'GC', 'TGC')\n",
      "('TG', 'GG', 'TGG')\n",
      "('TG', 'GT', 'TGT')\n",
      "('TT', 'TA', 'TTA')\n",
      "nodes:\n",
      "['CA', 'GT', 'AT', 'GA', 'TT', 'TA', 'AA', 'TG', 'GC', 'GG', 'CC']\n"
     ]
    }
   ],
   "source": [
    "print((\"n1\", \"n2\", \"edge\"))\n",
    "print(\"-\"*20)\n",
    "[print(edge) for edge in edges]\n",
    "print(\"nodes:\")\n",
    "print(nodes)"
   ]
  },
  {
   "cell_type": "code",
   "execution_count": 167,
   "id": "93131d20",
   "metadata": {},
   "outputs": [
    {
     "name": "stdout",
     "output_type": "stream",
     "text": [
      "The gvmagic extension is already loaded. To reload it, use:\n",
      "  %reload_ext gvmagic\n"
     ]
    }
   ],
   "source": [
    "# Needed to properly visualize graphs\n",
    "%load_ext gvmagic"
   ]
  },
  {
   "cell_type": "code",
   "execution_count": 168,
   "id": "a238b91e",
   "metadata": {
    "scrolled": false
   },
   "outputs": [
    {
     "data": {
      "image/svg+xml": [
       "<svg xmlns=\"http://www.w3.org/2000/svg\" xmlns:xlink=\"http://www.w3.org/1999/xlink\" width=\"284pt\" height=\"404pt\" viewBox=\"0.00 0.00 283.88 404.00\">\n",
       "<g id=\"graph0\" class=\"graph\" transform=\"scale(1 1) rotate(0) translate(4 400)\">\n",
       "<title>Assembly graph</title>\n",
       "<polygon fill=\"white\" stroke=\"transparent\" points=\"-4,4 -4,-400 279.88,-400 279.88,4 -4,4\"/>\n",
       "<!-- AA -->\n",
       "<g id=\"node1\" class=\"node\">\n",
       "<title>AA</title>\n",
       "<ellipse fill=\"none\" stroke=\"black\" cx=\"166.88\" cy=\"-378\" rx=\"27\" ry=\"18\"/>\n",
       "<text text-anchor=\"middle\" x=\"166.88\" y=\"-374.3\" font-family=\"Times-Roman\" font-size=\"14.00\">AA</text>\n",
       "</g>\n",
       "<!-- AT -->\n",
       "<g id=\"node2\" class=\"node\">\n",
       "<title>AT</title>\n",
       "<ellipse fill=\"none\" stroke=\"black\" cx=\"103.88\" cy=\"-306\" rx=\"27\" ry=\"18\"/>\n",
       "<text text-anchor=\"middle\" x=\"103.88\" y=\"-302.3\" font-family=\"Times-Roman\" font-size=\"14.00\">AT</text>\n",
       "</g>\n",
       "<!-- AA&#45;&gt;AT -->\n",
       "<g id=\"edge1\" class=\"edge\">\n",
       "<title>AA-&gt;AT</title>\n",
       "<path fill=\"none\" stroke=\"black\" d=\"M153.52,-362.15C145,-352.69 133.79,-340.24 124.19,-329.56\"/>\n",
       "<polygon fill=\"black\" stroke=\"black\" points=\"126.51,-326.92 117.22,-321.82 121.31,-331.6 126.51,-326.92\"/>\n",
       "</g>\n",
       "<!-- TG -->\n",
       "<g id=\"node3\" class=\"node\">\n",
       "<title>TG</title>\n",
       "<ellipse fill=\"none\" stroke=\"black\" cx=\"103.88\" cy=\"-234\" rx=\"27\" ry=\"18\"/>\n",
       "<text text-anchor=\"middle\" x=\"103.88\" y=\"-230.3\" font-family=\"Times-Roman\" font-size=\"14.00\">TG</text>\n",
       "</g>\n",
       "<!-- AT&#45;&gt;TG -->\n",
       "<g id=\"edge2\" class=\"edge\">\n",
       "<title>AT-&gt;TG</title>\n",
       "<path fill=\"none\" stroke=\"black\" d=\"M92.44,-289.46C90.42,-280.95 89.89,-270.17 90.84,-260.46\"/>\n",
       "<polygon fill=\"black\" stroke=\"black\" points=\"94.31,-260.92 92.45,-250.49 87.4,-259.8 94.31,-260.92\"/>\n",
       "</g>\n",
       "<!-- AT&#45;&gt;TG -->\n",
       "<g id=\"edge3\" class=\"edge\">\n",
       "<title>AT-&gt;TG</title>\n",
       "<path fill=\"none\" stroke=\"black\" d=\"M103.88,-287.7C103.88,-279.98 103.88,-270.71 103.88,-262.11\"/>\n",
       "<polygon fill=\"black\" stroke=\"black\" points=\"107.38,-262.1 103.88,-252.1 100.38,-262.1 107.38,-262.1\"/>\n",
       "</g>\n",
       "<!-- AT&#45;&gt;TG -->\n",
       "<g id=\"edge4\" class=\"edge\">\n",
       "<title>AT-&gt;TG</title>\n",
       "<path fill=\"none\" stroke=\"black\" d=\"M115.32,-289.46C117.34,-280.95 117.87,-270.17 116.92,-260.46\"/>\n",
       "<polygon fill=\"black\" stroke=\"black\" points=\"120.36,-259.8 115.31,-250.49 113.45,-260.92 120.36,-259.8\"/>\n",
       "</g>\n",
       "<!-- GC -->\n",
       "<g id=\"node7\" class=\"node\">\n",
       "<title>GC</title>\n",
       "<ellipse fill=\"none\" stroke=\"black\" cx=\"148.88\" cy=\"-162\" rx=\"27\" ry=\"18\"/>\n",
       "<text text-anchor=\"middle\" x=\"148.88\" y=\"-158.3\" font-family=\"Times-Roman\" font-size=\"14.00\">GC</text>\n",
       "</g>\n",
       "<!-- TG&#45;&gt;GC -->\n",
       "<g id=\"edge13\" class=\"edge\">\n",
       "<title>TG-&gt;GC</title>\n",
       "<path fill=\"none\" stroke=\"black\" d=\"M114.09,-217.12C119.73,-208.34 126.85,-197.26 133.18,-187.42\"/>\n",
       "<polygon fill=\"black\" stroke=\"black\" points=\"136.25,-189.13 138.71,-178.82 130.36,-185.34 136.25,-189.13\"/>\n",
       "</g>\n",
       "<!-- GG -->\n",
       "<g id=\"node8\" class=\"node\">\n",
       "<title>GG</title>\n",
       "<ellipse fill=\"none\" stroke=\"black\" cx=\"58.88\" cy=\"-162\" rx=\"27\" ry=\"18\"/>\n",
       "<text text-anchor=\"middle\" x=\"58.88\" y=\"-158.3\" font-family=\"Times-Roman\" font-size=\"14.00\">GG</text>\n",
       "</g>\n",
       "<!-- TG&#45;&gt;GG -->\n",
       "<g id=\"edge14\" class=\"edge\">\n",
       "<title>TG-&gt;GG</title>\n",
       "<path fill=\"none\" stroke=\"black\" d=\"M93.67,-217.12C88.03,-208.34 80.91,-197.26 74.58,-187.42\"/>\n",
       "<polygon fill=\"black\" stroke=\"black\" points=\"77.4,-185.34 69.05,-178.82 71.51,-189.13 77.4,-185.34\"/>\n",
       "</g>\n",
       "<!-- GT -->\n",
       "<g id=\"node9\" class=\"node\">\n",
       "<title>GT</title>\n",
       "<ellipse fill=\"none\" stroke=\"black\" cx=\"220.88\" cy=\"-162\" rx=\"27\" ry=\"18\"/>\n",
       "<text text-anchor=\"middle\" x=\"220.88\" y=\"-158.3\" font-family=\"Times-Roman\" font-size=\"14.00\">GT</text>\n",
       "</g>\n",
       "<!-- TG&#45;&gt;GT -->\n",
       "<g id=\"edge15\" class=\"edge\">\n",
       "<title>TG-&gt;GT</title>\n",
       "<path fill=\"none\" stroke=\"black\" d=\"M123.46,-221.28C142.36,-209.98 171.17,-192.74 192.57,-179.94\"/>\n",
       "<polygon fill=\"black\" stroke=\"black\" points=\"194.45,-182.89 201.23,-174.75 190.85,-176.89 194.45,-182.89\"/>\n",
       "</g>\n",
       "<!-- CA -->\n",
       "<g id=\"node4\" class=\"node\">\n",
       "<title>CA</title>\n",
       "<ellipse fill=\"none\" stroke=\"black\" cx=\"84.88\" cy=\"-18\" rx=\"27\" ry=\"18\"/>\n",
       "<text text-anchor=\"middle\" x=\"84.88\" y=\"-14.3\" font-family=\"Times-Roman\" font-size=\"14.00\">CA</text>\n",
       "</g>\n",
       "<!-- CA&#45;&gt;AT -->\n",
       "<g id=\"edge5\" class=\"edge\">\n",
       "<title>CA-&gt;AT</title>\n",
       "<path fill=\"none\" stroke=\"black\" d=\"M61.27,-27.17C41.96,-35.25 15.95,-49.68 3.88,-72 -3.73,-86.07 2.45,-92.06 3.88,-108 9.72,-173.21 -1.02,-197.25 34.88,-252 44.8,-267.13 60.54,-279.7 74.48,-288.8\"/>\n",
       "<polygon fill=\"black\" stroke=\"black\" points=\"72.96,-291.98 83.31,-294.27 76.65,-286.03 72.96,-291.98\"/>\n",
       "</g>\n",
       "<!-- CC -->\n",
       "<g id=\"node5\" class=\"node\">\n",
       "<title>CC</title>\n",
       "<ellipse fill=\"none\" stroke=\"black\" cx=\"130.88\" cy=\"-90\" rx=\"27\" ry=\"18\"/>\n",
       "<text text-anchor=\"middle\" x=\"130.88\" y=\"-86.3\" font-family=\"Times-Roman\" font-size=\"14.00\">CC</text>\n",
       "</g>\n",
       "<!-- CC&#45;&gt;CA -->\n",
       "<g id=\"edge6\" class=\"edge\">\n",
       "<title>CC-&gt;CA</title>\n",
       "<path fill=\"none\" stroke=\"black\" d=\"M120.44,-73.12C114.68,-64.34 107.4,-53.26 100.92,-43.42\"/>\n",
       "<polygon fill=\"black\" stroke=\"black\" points=\"103.69,-41.26 95.28,-34.82 97.84,-45.1 103.69,-41.26\"/>\n",
       "</g>\n",
       "<!-- GA -->\n",
       "<g id=\"node6\" class=\"node\">\n",
       "<title>GA</title>\n",
       "<ellipse fill=\"none\" stroke=\"black\" cx=\"39.88\" cy=\"-90\" rx=\"27\" ry=\"18\"/>\n",
       "<text text-anchor=\"middle\" x=\"39.88\" y=\"-86.3\" font-family=\"Times-Roman\" font-size=\"14.00\">GA</text>\n",
       "</g>\n",
       "<!-- GA&#45;&gt;AT -->\n",
       "<g id=\"edge7\" class=\"edge\">\n",
       "<title>GA-&gt;AT</title>\n",
       "<path fill=\"none\" stroke=\"black\" d=\"M32.25,-107.28C24.85,-125.29 15.72,-155.05 22.88,-180 34.36,-220.02 63.44,-259.15 83.44,-282.67\"/>\n",
       "<polygon fill=\"black\" stroke=\"black\" points=\"80.89,-285.07 90.09,-290.32 86.17,-280.48 80.89,-285.07\"/>\n",
       "</g>\n",
       "<!-- GC&#45;&gt;CC -->\n",
       "<g id=\"edge8\" class=\"edge\">\n",
       "<title>GC-&gt;CC</title>\n",
       "<path fill=\"none\" stroke=\"black\" d=\"M144.52,-144.05C142.49,-136.14 140.02,-126.54 137.74,-117.69\"/>\n",
       "<polygon fill=\"black\" stroke=\"black\" points=\"141.08,-116.6 135.2,-107.79 134.3,-118.35 141.08,-116.6\"/>\n",
       "</g>\n",
       "<!-- GG&#45;&gt;GA -->\n",
       "<g id=\"edge9\" class=\"edge\">\n",
       "<title>GG-&gt;GA</title>\n",
       "<path fill=\"none\" stroke=\"black\" d=\"M54.28,-144.05C52.13,-136.14 49.53,-126.54 47.12,-117.69\"/>\n",
       "<polygon fill=\"black\" stroke=\"black\" points=\"50.43,-116.52 44.44,-107.79 43.68,-118.36 50.43,-116.52\"/>\n",
       "</g>\n",
       "<!-- GG&#45;&gt;GG -->\n",
       "<g id=\"edge10\" class=\"edge\">\n",
       "<title>GG-&gt;GG</title>\n",
       "<path fill=\"none\" stroke=\"black\" d=\"M78.77,-174.43C91.57,-177.68 103.88,-173.53 103.88,-162 103.88,-153.62 97.38,-149.14 88.92,-148.56\"/>\n",
       "<polygon fill=\"black\" stroke=\"black\" points=\"88.38,-145.1 78.77,-149.57 89.07,-152.07 88.38,-145.1\"/>\n",
       "</g>\n",
       "<!-- TT -->\n",
       "<g id=\"node10\" class=\"node\">\n",
       "<title>TT</title>\n",
       "<ellipse fill=\"none\" stroke=\"black\" cx=\"220.88\" cy=\"-90\" rx=\"27\" ry=\"18\"/>\n",
       "<text text-anchor=\"middle\" x=\"220.88\" y=\"-86.3\" font-family=\"Times-Roman\" font-size=\"14.00\">TT</text>\n",
       "</g>\n",
       "<!-- GT&#45;&gt;TT -->\n",
       "<g id=\"edge11\" class=\"edge\">\n",
       "<title>GT-&gt;TT</title>\n",
       "<path fill=\"none\" stroke=\"black\" d=\"M220.88,-143.7C220.88,-135.98 220.88,-126.71 220.88,-118.11\"/>\n",
       "<polygon fill=\"black\" stroke=\"black\" points=\"224.38,-118.1 220.88,-108.1 217.38,-118.1 224.38,-118.1\"/>\n",
       "</g>\n",
       "<!-- TA -->\n",
       "<g id=\"node11\" class=\"node\">\n",
       "<title>TA</title>\n",
       "<ellipse fill=\"none\" stroke=\"black\" cx=\"247.88\" cy=\"-18\" rx=\"27\" ry=\"18\"/>\n",
       "<text text-anchor=\"middle\" x=\"247.88\" y=\"-14.3\" font-family=\"Times-Roman\" font-size=\"14.00\">TA</text>\n",
       "</g>\n",
       "<!-- TT&#45;&gt;TA -->\n",
       "<g id=\"edge16\" class=\"edge\">\n",
       "<title>TT-&gt;TA</title>\n",
       "<path fill=\"none\" stroke=\"black\" d=\"M227.28,-72.41C230.39,-64.34 234.21,-54.43 237.71,-45.35\"/>\n",
       "<polygon fill=\"black\" stroke=\"black\" points=\"241.01,-46.55 241.34,-35.96 234.47,-44.03 241.01,-46.55\"/>\n",
       "</g>\n",
       "<!-- TA&#45;&gt;AA -->\n",
       "<g id=\"edge12\" class=\"edge\">\n",
       "<title>TA-&gt;AA</title>\n",
       "<path fill=\"none\" stroke=\"black\" d=\"M253.41,-35.84C261.57,-62.21 275.88,-115.02 275.88,-161 275.88,-235 275.88,-235 275.88,-235 275.88,-288.63 226.34,-334.49 194.06,-358.68\"/>\n",
       "<polygon fill=\"black\" stroke=\"black\" points=\"191.9,-355.92 185.87,-364.63 196.01,-361.58 191.9,-355.92\"/>\n",
       "</g>\n",
       "</g>\n",
       "</svg>"
      ],
      "text/plain": [
       "<IPython.core.display.SVG object>"
      ]
     },
     "metadata": {},
     "output_type": "display_data"
    }
   ],
   "source": [
    "# Helper function to visualize graphs\n",
    "%dotstr utils.viz_graph(nodes, [edge[0:2] for edge in edges]) #has the nodes and the edges defined by the two nodes"
   ]
  },
  {
   "cell_type": "code",
   "execution_count": 194,
   "id": "70b334e0",
   "metadata": {},
   "outputs": [
    {
     "name": "stdout",
     "output_type": "stream",
     "text": [
      "cycle starting at CA\n",
      "new cycle starting at AT\n",
      "new updated cycle: ['CA', 'AT', 'TG', 'GG', 'GA', 'AT', 'TG', 'GC', 'CC']\n",
      "new cycle starting at AT\n",
      "new updated cycle: ['CA', 'AT', 'TG', 'GT', 'TT', 'TA', 'AA', 'AT', 'TG', 'GG', 'GA', 'AT', 'TG', 'GC', 'CC']\n",
      "new cycle starting at GG\n",
      "new updated cycle: ['CA', 'AT', 'TG', 'GT', 'TT', 'TA', 'AA', 'AT', 'TG', 'GG', 'GG', 'GA', 'AT', 'TG', 'GC', 'CC']\n"
     ]
    },
    {
     "data": {
      "text/plain": [
       "['CA',\n",
       " 'AT',\n",
       " 'TG',\n",
       " 'GT',\n",
       " 'TT',\n",
       " 'TA',\n",
       " 'AA',\n",
       " 'AT',\n",
       " 'TG',\n",
       " 'GG',\n",
       " 'GG',\n",
       " 'GA',\n",
       " 'AT',\n",
       " 'TG',\n",
       " 'GC',\n",
       " 'CC']"
      ]
     },
     "execution_count": 194,
     "metadata": {},
     "output_type": "execute_result"
    }
   ],
   "source": [
    "edgeDict = {} #generates a dictionary of edges from the original list\n",
    "for edge in edges:\n",
    "    if edge[:2] not in edgeDict:\n",
    "        edgeDict[edge[:2]] = [edge[2]]\n",
    "    else:\n",
    "        edgeDict[edge[:2]] += [edge[2]]\n",
    "\n",
    "def Single_Cycle(node, edgeDict, edges):\n",
    "    \n",
    "    startNode = node #this is where you start the cycle\n",
    "    curNode = node #currently at the start\n",
    "    cycleStart = True #just a measure to make sure the while loop runs\n",
    "        \n",
    "    cycle = [curNode] #start the cycle at the starting node\n",
    "    while curNode != startNode or cycleStart:\n",
    "        cycleStart = False #the cycle is not set to start\n",
    "        for edge in edges:\n",
    "            if edge[0] == curNode and edgeDict[edge[:2]] != []: #finds an appropriate edge to move in\n",
    "                curNode = edge[1] #moves to the next node\n",
    "                edgeDict[edge[:2]] = edgeDict[edge[:2]][:-1] #removes that edge from the dictionary by removing a list value\n",
    "                cycle.append(curNode)\n",
    "                break #restart the process!\n",
    "                \n",
    "    return cycle[:-1] #return the path of everything but remove the last node so it isn't a cycle\n",
    "\n",
    "def Euler_Cycle(nodes, edgeDict, edges):\n",
    "    starting_cycle = Single_Cycle(nodes[0], edgeDict, edges) #start at the beginning of the list cause why not\n",
    "    print(\"cycle starting at\", nodes[0])\n",
    "    while any(list(edgeDict.values())): #checks if there are any paths that haven't been eliminated\n",
    "        new_starting_node = None\n",
    "        for edge in edges:\n",
    "            if edgeDict[edge[:2]] != [] and edge[0] in starting_cycle: #find new edge in the starting cycle\n",
    "                new_starting_node = edge[0] #start the new cycle here and break the loop\n",
    "                break\n",
    "        \n",
    "        cycle_prime = Single_Cycle(new_starting_node, edgeDict, edges)\n",
    "        print(\"new cycle starting at\", new_starting_node)\n",
    "        \n",
    "        insertion_index = starting_cycle.index(new_starting_node)\n",
    "        \n",
    "        for n,i in enumerate(cycle_prime):\n",
    "            starting_cycle.insert(insertion_index + n, i)\n",
    "        \n",
    "        print(\"new updated cycle:\", starting_cycle)\n",
    "    \n",
    "    return starting_cycle\n",
    "\n",
    "Euler_Cycle(nodes, edgeDict, edges)"
   ]
  },
  {
   "cell_type": "code",
   "execution_count": 35,
   "id": "3c4f6bfc",
   "metadata": {},
   "outputs": [],
   "source": [
    "# Main assembly algorithm\n",
    "\n",
    "def assemble_sequence(nodes, edges):\n",
    "    assembled_sequence = \"\"\n",
    "    # Your code here\n",
    "    return assembled_sequence"
   ]
  },
  {
   "cell_type": "code",
   "execution_count": null,
   "id": "a5b1b2e3",
   "metadata": {},
   "outputs": [],
   "source": [
    "# Output assembled sequence\n",
    "# Hint: Sequence is 200 nucleotides long\n",
    "\n",
    "assmebled_seq = assemble_sequence(nodes, edges)"
   ]
  },
  {
   "cell_type": "markdown",
   "id": "91454973",
   "metadata": {},
   "source": [
    "<div class=\"alert alert-success\"> \n",
    "    \n",
    "**Problem 6.** Which of the two assembly methods did you use for problem 5, and why? (Hint: consider how the costs scale with the number of reads.)\n",
    "    \n",
    "</div>"
   ]
  },
  {
   "cell_type": "markdown",
   "id": "9c68ae0c",
   "metadata": {},
   "source": [
    "## Part 2: Sequencing SARS-CoV-2 virus"
   ]
  },
  {
   "cell_type": "markdown",
   "id": "bb9104f8",
   "metadata": {},
   "source": [
    "Let's move on from TeleTubbies to real-world organisms. For this problem, you'll assemble a genome for a variant of the SARS-CoV-2 virus. You're given reads from <i>actual</i> genome sequencing runs in the provided `SARS-CoV2.fastq` file. The file is based on the first Covid genome that was submitted on 5 January 2020: [https://www.ncbi.nlm.nih.gov/nuccore/NC_045512](https://www.ncbi.nlm.nih.gov/nuccore/NC_045512) But, you should be reconstructing a sequence from the provided reads without looking at the source sequence.\n",
    "\n",
    "<div class=\"alert alert-success\">\n",
    "    \n",
    "**Problem 7.**  Reconstruct the SATS-CoV2 genome from the provided sequence reads using $k=25$. \n",
    "    \n",
    "</div>\n",
    "\n",
    "You can re-use your implementation from Problem 5 and simply run it on the new data (depending on what you did for Problem 5, that might be enough to solve this problem). \n",
    "\n",
    "Print out your reconstructed sequence to a file `output.txt` (and add this file to the repo you submit). For this part, we will still assume that all the reads are error-free. "
   ]
  },
  {
   "cell_type": "code",
   "execution_count": null,
   "id": "490daca9",
   "metadata": {},
   "outputs": [],
   "source": [
    "# Read sequence reads\n",
    "sequence_reads_covid, qualities_covid = utils.read_fastq('SARS-CoV2.fastq')"
   ]
  },
  {
   "cell_type": "code",
   "execution_count": null,
   "id": "3dfbe110",
   "metadata": {},
   "outputs": [],
   "source": [
    "# Read reads into graph\n",
    "nodes_covid, edges_covid = build_graph(sequence_reads_covid)"
   ]
  },
  {
   "cell_type": "code",
   "execution_count": null,
   "id": "011414e6",
   "metadata": {},
   "outputs": [],
   "source": [
    "# Call main assembly algorithm\n",
    "assmebled_covid_seq = assemble_sequence(nodes_covid, edges_covid)"
   ]
  },
  {
   "cell_type": "code",
   "execution_count": null,
   "id": "b8818bf5",
   "metadata": {},
   "outputs": [],
   "source": [
    "# Write assembled sequence to file\n",
    "with open(\"output.txt\", \"w\") as f:\n",
    "    f.write(assmebled_covid_seq)"
   ]
  },
  {
   "cell_type": "markdown",
   "id": "a3cc7d97",
   "metadata": {},
   "source": [
    "# Part 3: Error-Aware Assembly (Challenge Problem)"
   ]
  },
  {
   "cell_type": "markdown",
   "id": "9c03fa24",
   "metadata": {},
   "source": [
    "<div class=\"alert alert-warning\">\n",
    "    This problem is a \"Challenge Problem\". This means it is a problem of unknown difficulty that might be quite challenging (unlike the earlier problems, we don't have a reference solution for this one, or a clear idea how hard it might be). We do hope all students will at least attempt this and that more ambitious students will work hard to solve it and learn interesting things by the attempt (whether or not it is successful), but not get frustrated if you can't get to the desired answer.  As a \"Challenge Problem\" it means that you shouldn't be worried if you are not able to solve this, though, and you can get full expected credit on this assignment without answering it.\n",
    "</div>\n",
    "\n",
    "\n",
    "In the parts above, we assumed error-free reads while assembling $k$-mers. As much as we'd like that, actual reads can (and do) have errors, captured by their Phred scores. \n",
    "\n",
    "For this question, you're given raw, actual reads from sequencing runs. Download the reads from this file:\n",
    "https://sra-pub-sars-cov2.s3.amazonaws.com/sra-src/SRR11528307/ABS2-LN-R1_cleaned_paired.fastq.gz.  \n",
    "\n",
    "\n",
    "<div class=\"alert alert-success\">\n",
    "    \n",
    "**Problem 8 (Challenge).** Give the reads in the linked fastq file above, including their Phred33 quality score, assemble the most likely genome. Your solution should output the assembled sequence in `challenge.txt`. Provide a brief explantion of how your algorithm works and interesting things you learned in developing it.\n",
    "    \n",
    "</div>\n",
    "    \n",
    "This is an open-ended question. You are free to use any approach to deal with the issue. Make sure you provide your code, along with any assumptions you may have."
   ]
  },
  {
   "cell_type": "markdown",
   "id": "5d7e82e1",
   "metadata": {},
   "source": [
    "_Write a description of your algorithm, and things you learned from working on this here._"
   ]
  },
  {
   "cell_type": "code",
   "execution_count": null,
   "id": "4594e10b",
   "metadata": {},
   "outputs": [],
   "source": [
    "# implementation "
   ]
  },
  {
   "cell_type": "markdown",
   "id": "89a97c21",
   "metadata": {},
   "source": [
    "   <div class=\"alert alert-block alert-danger\">\n",
    "    <center>\n",
    "        \n",
    " **Remember to follow the submission directions above to submit your assignment by 4:59pm on Tuesday, 8 February.**\n",
    "    \n",
    " </center>\n",
    " </div>"
   ]
  }
 ],
 "metadata": {
  "kernelspec": {
   "display_name": "Python 3",
   "language": "python",
   "name": "python3"
  },
  "language_info": {
   "codemirror_mode": {
    "name": "ipython",
    "version": 3
   },
   "file_extension": ".py",
   "mimetype": "text/x-python",
   "name": "python",
   "nbconvert_exporter": "python",
   "pygments_lexer": "ipython3",
   "version": "3.9.2"
  }
 },
 "nbformat": 4,
 "nbformat_minor": 5
}
