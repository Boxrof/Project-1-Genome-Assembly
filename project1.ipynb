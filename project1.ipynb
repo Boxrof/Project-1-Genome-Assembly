{
 "cells": [
  {
   "cell_type": "markdown",
   "id": "7da87395",
   "metadata": {},
   "source": [
    "# Project 1: Assembling Genomes"
   ]
  },
  {
   "cell_type": "markdown",
   "id": "a9645da6",
   "metadata": {},
   "source": [
    "\n",
    "   <div class=\"alert alert-block alert-danger\">\n",
    "    <center>Due: <b>Tuesday, 8 February, 4:59pm</b>.</center> \n",
    "   </div>\n",
    "   \n",
    "   <div class=\"alert alert-block alert-warning\">\n",
    "   <center>\n",
    "       <b>Collaboration and Resource Policy</b>\n",
    "    </center>\n",
    "    For this assignment, you are encouraged to work with one other person. Your team must satisfy the constraints mentioned in <a href=\"https://www.dropbox.com/s/g6z2xncwc4jsplp/csbio-class2-inked.pdf?dl=0\">Class 2</a>.\n",
    "    \n",
    "   1. You went to different high schools.\n",
    "   2. You and your partner have different answers to <em>at least one</em> of these questions:\n",
    "       - What country were you born in?\n",
    "       - Have you taken any biology courses at UVA?\n",
    "       - Have you taken cs3102?\n",
    "       - Have you taken cs4102?\n",
    "    \n",
    "We expect most students will have the best learning experience on this assignment by working with a partner, but if you prefer to work alone it is okay to do this assignment on your own.\n",
    "    \n",
    "You are permitted (actually _encouraged_) to discuss these problems with anyone you want, including other students in the class. If you do discuss the specific questions in the assignment with anyone other than your assignment partner and the course staff, though, you should list them in the _External resources used_ section below.\n",
    "    \n",
    "You are welcome to use any resources you want for this assignment, other than ones that would defeat the purpose of the assignment. This means you should not look at answers or code from any other students in the class (other than your collaboration with your partner), and if you find code that implements the problem you are being asked to do for the assignment, you should not use that code. You should document all external resource you use that are not part of the course materials in the _External resources used_ section below."
   ]
  },
  {
   "cell_type": "markdown",
   "id": "14179769",
   "metadata": {},
   "source": [
    "**Team submitting this assignment:**  \n",
    "<div class=\"alert alert-success\">\n",
    "    <b><em>Mohit Srivastav (mvs2dq) & Promotto Islam (pti9ea)</em></b>\n",
    "</div>\n",
    "\n",
    "**External resources used:** \n",
    "<div class=\"alert alert-success\">\n",
    "<em>It is not necessary to list the course materials, but if you used any other resources, including discussing problems with students not on your team, list them here.</em>\n",
    "</div>"
   ]
  },
  {
   "cell_type": "markdown",
   "id": "57bc46a1",
   "metadata": {},
   "source": [
    "In this project, we will explore genome assembly — the process of determining the order of nucleotides from fragmented reads that are produced by sequencing machines. \n",
    "\n",
    "Genome assembly maps to a very well defined computer science problem, but can get quite complicated, as problems such as full sequence coverage, finding a good length for reads (the $k$ in $k$-mer), and sequencing errors present challenges for sequencing analysis and accuracy. For the required problems (ones everyone is expected to solve), you will be able to assume perfect coverage and no read errors; for the \"challenge\" problem (that is considered a bonus, and not something we expect everyone to be able to solve, and perhaps may not even be feasible for anyone to solve) you will not be able to rely on such assumptions."
   ]
  },
  {
   "cell_type": "markdown",
   "id": "b701651a",
   "metadata": {},
   "source": [
    " <div class=\"alert alert-block alert-warning\">\n",
    "    \n",
    "<b>Submission</b>: You should work on this assignment by forking the provided Project 1 repository (you probably already did this, following the instructions posted at [https://computingbiology.github.io/project1](https://computingbiology.github.io/project1). Add the other teammate to as a collaborator with write access (also under the Settings tab) to this repository.\n",
    "    \n",
    "You should answer the questions and write your code in this Jupyter Notebook. (We don't expect you to need to use any external files or organize your code outside of the notebook, but if you do, make sure to put everything needed to run your code in your repository.) Parts where you are expected to provide and answer (which could be text that can be written in markdown format in the notebook or Python code that runs in the notebook) are marked in green.\n",
    "        \n",
    "When you are ready to submit the assignment, you should create a release of the version you are submitting ([github's directions for how to create a release](https://docs.github.com/en/repositories/releasing-projects-on-github/managing-releases-in-a-repository)) tagged as `submit`. After you've done this, send a message in slack to a channel that includes both team members (so the one sending this message should include the other team member) and all of the course staff (`dave`, `Hyun Jae Cho`, and `Anshuman Suri`) and a link to your repository (feel free to add any other useful comments if you want, but the link to your submission repository is sufficient)."
   ]
  },
  {
   "cell_type": "markdown",
   "id": "6ddc5cc5",
   "metadata": {},
   "source": [
    "## Getting Started"
   ]
  },
  {
   "cell_type": "markdown",
   "id": "65e42801",
   "metadata": {},
   "source": [
    "1. Install basic required packages, should be run only once. You may need to restart the jupyter python kernel (under the Kernel menu) after this. (You can execute this directly in the notebook but running the command below.)"
   ]
  },
  {
   "cell_type": "code",
   "execution_count": 1,
   "id": "9df18fe5",
   "metadata": {},
   "outputs": [
    {
     "name": "stdout",
     "output_type": "stream",
     "text": [
      "Requirement already satisfied: gvmagic in /home/boxrof/miniconda3/envs/phys56xx/lib/python3.9/site-packages (from -r requirements.txt (line 1)) (0.5)\n",
      "Requirement already satisfied: numpy in /home/boxrof/miniconda3/envs/phys56xx/lib/python3.9/site-packages (from -r requirements.txt (line 2)) (1.20.3)\n",
      "Requirement already satisfied: matplotlib in /home/boxrof/miniconda3/envs/phys56xx/lib/python3.9/site-packages (from -r requirements.txt (line 3)) (3.4.1)\n",
      "Requirement already satisfied: pydot in /home/boxrof/miniconda3/envs/phys56xx/lib/python3.9/site-packages (from -r requirements.txt (line 4)) (1.4.2)\n",
      "Requirement already satisfied: pyparsing>=2.2.1 in /home/boxrof/miniconda3/envs/phys56xx/lib/python3.9/site-packages (from matplotlib->-r requirements.txt (line 3)) (2.4.7)\n",
      "Requirement already satisfied: python-dateutil>=2.7 in /home/boxrof/miniconda3/envs/phys56xx/lib/python3.9/site-packages (from matplotlib->-r requirements.txt (line 3)) (2.8.1)\n",
      "Requirement already satisfied: cycler>=0.10 in /home/boxrof/miniconda3/envs/phys56xx/lib/python3.9/site-packages (from matplotlib->-r requirements.txt (line 3)) (0.10.0)\n",
      "Requirement already satisfied: kiwisolver>=1.0.1 in /home/boxrof/miniconda3/envs/phys56xx/lib/python3.9/site-packages (from matplotlib->-r requirements.txt (line 3)) (1.3.1)\n",
      "Requirement already satisfied: pillow>=6.2.0 in /home/boxrof/miniconda3/envs/phys56xx/lib/python3.9/site-packages (from matplotlib->-r requirements.txt (line 3)) (8.1.2)\n",
      "Requirement already satisfied: six in /home/boxrof/miniconda3/envs/phys56xx/lib/python3.9/site-packages (from cycler>=0.10->matplotlib->-r requirements.txt (line 3)) (1.15.0)\n",
      "Note: you may need to restart the kernel to use updated packages.\n"
     ]
    }
   ],
   "source": [
    "%pip install -r requirements.txt"
   ]
  },
  {
   "cell_type": "markdown",
   "id": "68cf7d92",
   "metadata": {},
   "source": [
    "2. Make sure you have [graphviz](https://graphviz.org/) installed on your system. (On a Mac OS X, `brew install graphviz`. For other platforms, see [_https://graphviz.org/download/_](https://graphviz.org/download/).)"
   ]
  },
  {
   "cell_type": "code",
   "execution_count": 2,
   "id": "d39abe1f",
   "metadata": {},
   "outputs": [],
   "source": [
    "import collections\n",
    "import matplotlib.pyplot as plt\n",
    "\n",
    "import utils"
   ]
  },
  {
   "cell_type": "markdown",
   "id": "5554e2bc",
   "metadata": {},
   "source": [
    "## Part 1: Assembling the TeleTubby Genome"
   ]
  },
  {
   "cell_type": "markdown",
   "id": "7985c6cb",
   "metadata": {},
   "source": [
    "For this part, you're given reads generated while trying to sequence the DNA of a mysterious unknown organism with a _tiny_ genome. Some of the course staff is not sure what a TeleTubby is, but I've been assured that no cute creatures were harmed in producing this data (which was generated synthetically).\n",
    "\n",
    "By answering the following questions, you will learn how to assemble the original genome sequence from sequence reads.\n",
    "\n",
    "Sequencing data is often stored in the FASTQ file format, with is a simple ASCII format that is somewhat human-readable. \n",
    "\n",
    "In _TeleTubby.fastq_ (which is included in the repository you forked), you will find the data that was read from the TeleTubby genome. Each four lines of the file repeat the same pattern. For example,\n",
    "```\n",
    "@TeleTubby Genome: Project 1\n",
    "TAAAATGG\n",
    "+\n",
    "HAICDF5I\n",
    "```\n",
    "The first line contains the metadata that encodes the name of the read, the experiment type, the kind of sequencing machine used, etc. \n",
    "\n",
    "The second line is the sequence of bases that was read. \n",
    "\n",
    "The third line is just a placeholder.\n",
    "\n",
    "The fourth line is a sequence of base qualities that encodes the qualities for the corresponding bases in the sequence line. We will discuss and use this for Problem 2."
   ]
  },
  {
   "cell_type": "markdown",
   "id": "744fd5da",
   "metadata": {},
   "source": [
    "Read in the data from `TeleTubby.fastq`:"
   ]
  },
  {
   "cell_type": "code",
   "execution_count": 3,
   "id": "04406782",
   "metadata": {},
   "outputs": [
    {
     "name": "stdout",
     "output_type": "stream",
     "text": [
      "['ACCACGTA', 'CCACCACG', 'CGATGGTA', 'TTTTGGTC', 'ACTCGGAG', 'CGGAGGAT', 'ATAGGTGA', 'TAAAATGG', 'TATGCCAA', 'TACAGGTG', 'CAACGCTT', 'TGACTCGG', 'AGGTGTCG', 'ACGTATCC', 'TGGTCGTA', 'CCAACGCT', 'TGTTGATA', 'CTCGGAGG', 'TGATAAAA', 'GGCCACAT', 'ATAATTTT', 'ATGGTAAA', 'GTAAACCT', 'ACAGGTGT', 'ATCCCCCG', 'ATAAAATG', 'AATGGCCA', 'AGGTGACT', 'GATGGTAA', 'GCACATGG', 'GGATCACT', 'TGATAGGT', 'CACCACGT', 'ATCACTTT', 'CGTACATC', 'TTAACGAC', 'TCGTGTTA', 'TCGTACAT', 'CACATGGC', 'CTCCGGTA', 'AGTGATAG', 'TCATGCAC', 'TGTCATGC', 'CACATAAT', 'ACGCTTAC', 'TTGATAAA', 'CCCGCGCA', 'CCACGTAT', 'GTCGATGG', 'GCATCGTG', 'ACTTTAAC', 'TACCGACG', 'TCGAGTGA', 'AGGGGATT', 'TCGTACAG', 'GGAGGATC', 'CACGTATC', 'CACTTTAA', 'CTACCGAC', 'CCGCGCAT', 'TACATCCC', 'CCACATAA', 'CTTTAACG', 'ACGACCAC', 'CGAGTGAT', 'ATAGGGGA', 'GGTCGTAC', 'CATCGTGT', 'TGTGTCGA', 'ATAAAATG', 'GTGTCGAT', 'GTCGTACA', 'CGCGCATC', 'CCCCACCA', 'CCACGGAC', 'GGTAAACC', 'TGGCCACA', 'AAAATGGC', 'TTTAACGA', 'TACATAGG', 'AATGTCAT', 'TCGGAGGA', 'GATAGGTG', 'CATAATTT', 'AAACCTGT', 'ATTGTGTC', 'GTGTCGAG', 'CATCGTAC', 'CCGACGAA', 'TAACGACC', 'GTGACTCG', 'TTGTGTCG', 'GACGAATG', 'ATGGCCCC', 'AATTTTTG', 'ATCCATCG', 'CTGTTGAT', 'ATCGTACA', 'ACGGACTC', 'TGGTAAAC', 'CGTATCCA', 'GTATCCAT', 'GCCAACGC', 'GTCATGCA', 'ACATAATT', 'GATCACTT', 'GTGATAGG', 'TGTCGATG', 'CGGACTCC', 'GAGTGATA', 'AACGCTTA', 'GAGGATCA', 'CGAATGTC', 'ACATAGGG', 'CATCCCCC', 'GTACATCC', 'TGCCAACG', 'AACCTGTT', 'CGTGTTAT', 'GGGATTGT', 'AGGATCAC', 'TTTTTGGT', 'TAATTTTT', 'TAGGGGAT', 'GGATTGTG', 'GGTGACTC', 'CCGGTAGA', 'ATCGTGTT', 'ACCGACGA', 'ATGCCAAC', 'CGACCACG', 'TCGATGGT', 'GTTGATAA', 'TTATGCCA', 'GGACTCCG', 'CCTACCGA', 'CGACGAAT', 'ACTCCGGT', 'CATAGGGG', 'TGCACATG', 'ACCTGTTG', 'GATAAAAT', 'TCCGGTAG', 'TAATTTTT', 'GACTCGGA', 'CATGCACA', 'ACATGGCC', 'GGCCCCAC', 'CCTGTTGA', 'GTGTTATG', 'CAGGTGTC', 'TTTGGTCG', 'GAATGTCA', 'TTACATAG', 'TATCCATC', 'GCGCATCG', 'TAAACCTG', 'CCATCGTA', 'TTGGTCGT', 'ACCACGGA', 'GATTGTGT', 'ATTTTTGG', 'TGGCCCCA', 'GCCCCACC', 'TGTCGAGT', 'CCCACCAC', 'ACGAATGT', 'AACGACCA', 'CTTACATA', 'GTACAGGT', 'TCCCCCGC', 'TGTTATGC', 'CGCTTACA', 'GGGGATTG', 'CCCCCGCG', 'GACCACGG', 'GCCACATA', 'GCTTACAT', 'CACGGACT', 'ATGGCCAC', 'CGTACAGG', 'CGCATCGT', 'TCACTTTA', 'GTCGAGTG', 'CCCCGCGC', 'ACATCCCC', 'CATGGCCC', 'GGTGTCGA', 'GACTCCGG', 'AAATGGCC', 'GTTATGCC', 'ATGCACAT', 'TAGGTGAC', 'ATGTCATG', 'GTGATAGG', 'TCCATCGT']\n",
      "\n",
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n"
     ]
    }
   ],
   "source": [
    "# Read sequence reads (error-free) from file\n",
    "sequence_reads, qualities = utils.read_fastq('TeleTubby.fastq')\n",
    "print(sequence_reads)\n",
    "print()\n",
    "print(qualities)"
   ]
  },
  {
   "cell_type": "markdown",
   "id": "69527f9b",
   "metadata": {},
   "source": [
    "### Melting Temperature\n",
    "\n",
    "The GC-content (or the ratio of G and C nucleotides) is related to the melting temperature of a DNA double helix structure. \n",
    "\n",
    "The following equation can be used to estimate the melting temperature (in degrees Celsius) of DNA for a particular sequence:\n",
    "\n",
    "\\begin{equation*}\n",
    "t_m = 64.9+0.41(\\%GC)-\\frac{500}{\\text{length of sequence}}\n",
    "\\end{equation*}\n",
    "\n",
    "As a reference, the human genome is known to have between 35%-60% GC-content. \n",
    "\n",
    "<div class=\"alert alert-success\">\n",
    "\n",
    "**Problem 1.** Calculate the melting temperature for the TeleTubby genome using the formula above. Assume that the sequence is 200 nucleotides long, and that the provided read data has equal coverage everywhere so the G-C distribution in the reads is very close to the actual G-C distribution for the genome. \n",
    "    </div>"
   ]
  },
  {
   "cell_type": "code",
   "execution_count": 4,
   "id": "9496e7fb",
   "metadata": {},
   "outputs": [],
   "source": [
    "def GC_percent(sequence_reads):\n",
    "    tot_acid = 0\n",
    "    tot_GC = 0\n",
    "    for sequence in sequence_reads:\n",
    "        for acid in sequence:\n",
    "            if acid == 'C' or acid == 'G':\n",
    "                tot_GC += 1\n",
    "            tot_acid += 1\n",
    "    return tot_GC/tot_acid*100, tot_acid"
   ]
  },
  {
   "cell_type": "code",
   "execution_count": 5,
   "id": "47f4f47b",
   "metadata": {},
   "outputs": [
    {
     "name": "stdout",
     "output_type": "stream",
     "text": [
      "The melting temperature is: 85.02882653061225 degrees C\n"
     ]
    }
   ],
   "source": [
    "gc, seq_len = GC_percent(sequence_reads)\n",
    "print(\"The melting temperature is:\", 64.9 + 0.41*gc - (500/seq_len), \"degrees C\")"
   ]
  },
  {
   "cell_type": "markdown",
   "id": "72723374",
   "metadata": {},
   "source": [
    "## Interpreting Read Quality"
   ]
  },
  {
   "cell_type": "markdown",
   "id": "e9a67a93",
   "metadata": {},
   "source": [
    "Phred33 quality scores are represented as the character with an ASCII code equal to its value + 33 (to make them easy to print alongside genome sequences). The Phred scores $Q$ are related to error probabilities $P$ as: $Q = -10 \\log_{10}(P)$. The table linked here provides a mapping from the Phred values provided in a fastq file and the $Q$ values: [Quality Score Encoding](https://support.illumina.com/help/BaseSpace_OLH_009008/Content/Source/Informatics/BS/QualityScoreEncoding_swBS.htm) \n",
    "\n",
    "<div class=\"alert alert-success\">\n",
    "    \n",
    "**Problem 2.** Using the Phred scores, identify the _least likely to be correct_ read in the TeleTubby.fastq data, which is the read with the lowest probability that it contains _no_ errors.\n",
    "\n",
    "</div>"
   ]
  },
  {
   "cell_type": "code",
   "execution_count": 6,
   "id": "76758368",
   "metadata": {},
   "outputs": [
    {
     "name": "stdout",
     "output_type": "stream",
     "text": [
      "The seqence CCATCGTA has the lowest probability that it contains no errors with a probability of 0.001307810616351377 .\n"
     ]
    }
   ],
   "source": [
    "# Write your code for Problem 2 here. \n",
    "# It should output the read (nucleotide sequence) with the lowest probability of containing no errors.\n",
    "\n",
    "def read_quality(qualities):\n",
    "    lowest_prob_sum = 1\n",
    "    index = 0\n",
    "    lowest_index = 0\n",
    "    for q in qualities:\n",
    "        prob_sum = 0\n",
    "        for letter in q:\n",
    "            #qscore + 33 = ASCII \n",
    "            #P =  10^(-q/10)\n",
    "            qscore = ord(letter)-33\n",
    "            prob_sum+=(10**(-qscore/10))\n",
    "        # print(prob_sum)\n",
    "        if prob_sum < lowest_prob_sum:\n",
    "            lowest_prob_sum = prob_sum\n",
    "            lowest_index = index\n",
    "        index+=1\n",
    "    return lowest_prob_sum,lowest_index\n",
    "prob,index = read_quality(qualities)\n",
    "# print(read_quality(qualities))\n",
    "# print(qualities)\n",
    "print('The seqence',sequence_reads[index],'has the lowest probability that it contains no errors with a probability of',prob,'.')\n",
    "    "
   ]
  },
  {
   "cell_type": "markdown",
   "id": "9d9abeb9",
   "metadata": {},
   "source": [
    "Note: For the following problems, you can ignore the read quality scores, and safely assume there are no actual errors in the provided TeleTubby reads."
   ]
  },
  {
   "cell_type": "markdown",
   "id": "8e55395f",
   "metadata": {},
   "source": [
    "## Frequency analysis\n",
    "\n",
    "Looking at repetitions in the sequence can be helpful in estimating the \"redudancy\" in the organisms. Eucaryote genomes have a lot of redundancy, while smaller organisms like bacteria have highly packed genomes. One heuristic to estimate this before actually performing the assembly could be looking at how often certain $k$-mers are repeated.\n",
    "\n",
    "<div class=\"alert alert-success\">\n",
    "    \n",
    "**Problem 3.**\n",
    "    Print out the 3 most frequent <em>k</em>-mers in the TeleTubby reads with their frequencies. (As in Problem 1, doing this from the reads only produces the same result as from the genome if the read coverage is equal everywhere, but it should be a close estimate.)\n",
    "</div>"
   ]
  },
  {
   "cell_type": "code",
   "execution_count": 7,
   "id": "bdbd6bc8",
   "metadata": {},
   "outputs": [
    {
     "name": "stdout",
     "output_type": "stream",
     "text": [
      "Most frequent k-mers in sequence:\n",
      "('TAATTTTT', 2)\n",
      "('GTGATAGG', 2)\n",
      "('ATAAAATG', 2)\n"
     ]
    }
   ],
   "source": [
    "# Your code here\n",
    "def freq_analysis(k,sequence_reads):\n",
    "#     print(sequence_reads)\n",
    "    if k <= len(sequence_reads[0]):\n",
    "        all_kmer = {}\n",
    "        for read in sequence_reads:\n",
    "            i = 0\n",
    "            while i+k <= len(read):\n",
    "                kmer = read[i:i+k]\n",
    "                if kmer in all_kmer:\n",
    "                    all_kmer[kmer]+=1\n",
    "                else:\n",
    "                    all_kmer[kmer]=1\n",
    "                i+=1\n",
    "        return(all_kmer)\n",
    "    else:\n",
    "        return('k too large')\n",
    "total_kmer_in_seq = freq_analysis(len(sequence_reads[0]),sequence_reads) #Change first parameter as needed (also changed k due to email chain in discussion)\n",
    "try:\n",
    "    sorted_kmer = sorted(total_kmer_in_seq.items(), key = lambda x:x[1])\n",
    "#     print(sorted_kmer)\n",
    "    print('Most frequent k-mers in sequence:')\n",
    "    print(sorted_kmer[-1])\n",
    "    print(sorted_kmer[-2])\n",
    "    print(sorted_kmer[-3])\n",
    "except:\n",
    "    print('Change value of k')"
   ]
  },
  {
   "cell_type": "markdown",
   "id": "728a612b",
   "metadata": {},
   "source": [
    "## Greedy Assembly"
   ]
  },
  {
   "cell_type": "markdown",
   "id": "36c041ab",
   "metadata": {},
   "source": [
    "Given a set of sequence fragments, the objective of assembly can be viewed as finding the shortest sequence that contains all the fragments.\n",
    "\n",
    "One of the approaches to assemble the genome from the given reads is a greedy algorithm:\n",
    "\n",
    "```\n",
    "while (len(fragments) > 1):\n",
    "   calculate pairwise alignments of all pairs of fragments\n",
    "   merge the two fragments with the largest overlap\n",
    "genome = fragment[0] # the single remaining fragment is the genome\n",
    "```\n"
   ]
  },
  {
   "cell_type": "markdown",
   "id": "35f6e176",
   "metadata": {},
   "source": [
    "<div class=\"alert alert-success\">\n",
    "    \n",
    "**Problem 4 (a)**. What would the runtime be of this algorithm, given $n$ $k$-mer reads? (If you are not sure how to express your answer to this question, review [_Cost of Computation_](https://computingbiology.github.io/complexity/).)\n",
    "    </div>"
   ]
  },
  {
   "cell_type": "markdown",
   "id": "93985b9f",
   "metadata": {},
   "source": [
    "<i>Answer</i>: O(n log(n)). This is because calculating the pairwise alignments takes n time, while the combinining of the fragments takes log(n) runs (since you are doubling the size of the fragments each time). Hence the runtime."
   ]
  },
  {
   "cell_type": "markdown",
   "id": "6d868a87",
   "metadata": {},
   "source": [
    "<div class=\"alert alert-success\">\n",
    "\n",
    "**Problem 4 (b)**. Is this algorithm guaranteed to find the correct genome? (A good answer will define what _correct_ means here, and explain why the algorithm is or is not guaranteed to find it.)"
   ]
  },
  {
   "cell_type": "markdown",
   "id": "12bfc75b",
   "metadata": {},
   "source": [
    "<i>Answer</i>:"
   ]
  },
  {
   "cell_type": "markdown",
   "id": "44685e7e",
   "metadata": {},
   "source": [
    "## Graph-based Assembly"
   ]
  },
  {
   "cell_type": "markdown",
   "id": "c9d33cc7",
   "metadata": {},
   "source": [
    "Graphs for genome assembly can be constructed in two ways:\n",
    "\n",
    "- de Bruijn graph: Processing $k-$mers as nodes, with $(k-1)-$mers as edges, and\n",
    "- Overlap graph: Processing $k-$mers as edges, with $(k-1)-$mers as nodes.\n",
    "\n",
    "A de Bruijn graph can be processed to find Euler paths, while Overlap graphs can be processed to find Hamiltonian paths. Both of these methods can be used reconstruct the original genome.\n",
    "\n",
    "<div class=\"alert alert-success\">\n",
    "    \n",
    "**Problem 5.**  Use one of these two techniques to reconstruct the TeleTubby genome from the provided sequence reads. \n",
    "    \n",
    "</div>\n",
    "    \n",
    "We have provided some template code below that may be helpful (but feel free to ignore this is you prefer)."
   ]
  },
  {
   "cell_type": "code",
   "execution_count": 8,
   "id": "c50bc332",
   "metadata": {},
   "outputs": [],
   "source": [
    "# # Read reads into graph\n",
    "# # \"Each read is a 8-mer\"\n",
    "# def build_graph(k_mers):\n",
    "#     edges = []\n",
    "#     nodes = set()\n",
    "#     # k = len(k_mers[0])\n",
    "#     # print(k_mers)\n",
    "#     for read in k_mers:\n",
    "#         # print(read)\n",
    "#         nodes.add(read[:-1])\n",
    "#         nodes.add(read[1:])\n",
    "#         edges.append([read[:-1],read[1:]])\n",
    "#         # print(nodes)\n",
    "#         # break\n",
    "#     # print(nodes)\n",
    "#     # Your code here\n",
    "#     # print(edges)\n",
    "#     return nodes, edges"
   ]
  },
  {
   "cell_type": "code",
   "execution_count": 87,
   "id": "4dddd4da",
   "metadata": {},
   "outputs": [],
   "source": [
    "def Euler_Check(graph):\n",
    "    \"\"\"Function that takes in the graph dictionary, \n",
    "    then spits out whether an Eulerian path is available\n",
    "    and a revised set of edges if you need to connect two ends to help make cycles\n",
    "    \"\"\"\n",
    "    \n",
    "    degree = dict.fromkeys(graph,0) #generates a dictionary of zeros from the original graph\n",
    "    \n",
    "    connection = [None, None, None] #connector from start -> end then value\n",
    "    for node in graph:\n",
    "        degree[node] -= len(graph[node]) #This is the out degree\n",
    "        for edge in graph[node]: #this is the in degree\n",
    "            if edge[0] not in degree:\n",
    "                degree[edge[0]] = 1\n",
    "            else:\n",
    "                degree[edge[0]] += 1\n",
    "    \n",
    "    for node in degree:\n",
    "        if abs(degree[node]) > 1:\n",
    "            print(\"degree too large at some point!\")\n",
    "            return False #returns that the check failed since |max| in/out is 1\n",
    "        \n",
    "        if degree[node] == 1 and connection[0] == None: #only adds a connection once, otherwise it fails to be eulerian\n",
    "            connection[0] = node\n",
    "        elif degree[node] == -1 and connection[1] == None:\n",
    "            connection[1] = node\n",
    "            \n",
    "        elif (degree[node] == 1 and connection[0] != None) or (degree[node] == -1 and connection[1] != None):\n",
    "            print(\"Too many nodes of degree 1/-1!\")\n",
    "            return False\n",
    "        \n",
    "    if (connection[0] == None and connection[1] != None) or (connection[0] != None and connection[1] == None):\n",
    "        print(\"Not enough nodes to form a valid connector!\")\n",
    "        return False #if only one or the other has a connection return false\n",
    "\n",
    "    if connection[0] != None and connection[1] != None:\n",
    "        connection[2] = connection[0] + connection[1][1:] #adds the connector in\n",
    "        \n",
    "        if connection[0] in graph:\n",
    "            graph[connection[0]] += [(connection[1], connection[2])]\n",
    "        else:\n",
    "            graph[connection[0]] = [(connection[1], connection[2])]\n",
    "    \n",
    "    return True #returns true. the graph in the dictionary has already been edited by the function"
   ]
  },
  {
   "cell_type": "code",
   "execution_count": 90,
   "id": "db3dfe4f",
   "metadata": {},
   "outputs": [],
   "source": [
    "def build_graph(k, sequence_reads):\n",
    "    \"\"\"takes in the sequence reads and then compiles all the nodes and edges\n",
    "    also uses the Euler_Check function to add any necessary edges and check if the graph is Eulerian\"\"\"\n",
    "    if k > len(sequence_reads[0]):\n",
    "        print(\"Pick a smaller k!\")\n",
    "        return None, None\n",
    "    graph = {}\n",
    "    for read in sequence_reads:\n",
    "        i = 0\n",
    "        while i+k <= len(read):\n",
    "            n1 = read[i:i+k-1] #first node of (k-1) mer\n",
    "            n2 = read[i+1:i+k] #second node of (k-1) mer\n",
    "\n",
    "            edge = (n2, read[i:i+k]) #edges are tuples of node2 and value\n",
    "            if n1 in graph:\n",
    "                graph[n1] += [edge]\n",
    "            else:\n",
    "                graph[n1] = [edge]\n",
    "            i += 1\n",
    "    check = Euler_Check(graph)\n",
    "    if check:\n",
    "        print(\"Eulerian Graph Found!\")\n",
    "        return graph\n",
    "    else:\n",
    "        print(\"Graph not Eulerian!\")\n",
    "        return graph"
   ]
  },
  {
   "cell_type": "code",
   "execution_count": 104,
   "id": "f60e36d1",
   "metadata": {},
   "outputs": [
    {
     "name": "stdout",
     "output_type": "stream",
     "text": [
      "Eulerian Graph Found!\n"
     ]
    }
   ],
   "source": [
    "# graph = build_graph(4,sequence_reads)\n",
    "graph = build_graph(3, ['AAT','ATG','ATG','ATG','CAT','CCA','GAT','GCC','GGA','GGG','GTT','TAA','TGC','TGG','TGT']) #example from reading\n",
    "# graph = build_graph(3, ['ATGCTA', 'GCTAGC', 'TAGCAC', 'GCACAT', 'ACATGC'])\n",
    "# graph = build_graph(5, ['TAATGCCATGGGATGTT'])"
   ]
  },
  {
   "cell_type": "code",
   "execution_count": 105,
   "id": "5c00596c",
   "metadata": {},
   "outputs": [
    {
     "data": {
      "text/plain": [
       "{'AA': [('AT', 'AAT')],\n",
       " 'AT': [('TG', 'ATG'), ('TG', 'ATG'), ('TG', 'ATG')],\n",
       " 'CA': [('AT', 'CAT')],\n",
       " 'CC': [('CA', 'CCA')],\n",
       " 'GA': [('AT', 'GAT')],\n",
       " 'GC': [('CC', 'GCC')],\n",
       " 'GG': [('GA', 'GGA'), ('GG', 'GGG')],\n",
       " 'GT': [('TT', 'GTT')],\n",
       " 'TA': [('AA', 'TAA')],\n",
       " 'TG': [('GC', 'TGC'), ('GG', 'TGG'), ('GT', 'TGT')],\n",
       " 'TT': [('TA', 'TTA')]}"
      ]
     },
     "execution_count": 105,
     "metadata": {},
     "output_type": "execute_result"
    }
   ],
   "source": [
    "graph"
   ]
  },
  {
   "cell_type": "code",
   "execution_count": 106,
   "id": "07e59ab6",
   "metadata": {
    "scrolled": true
   },
   "outputs": [
    {
     "name": "stdout",
     "output_type": "stream",
     "text": [
      "('n1', 'n2', 'edge')\n",
      "--------------------\n",
      "['AA', 'AT', 'AAT']\n",
      "['AT', 'TG', 'ATG']\n",
      "['AT', 'TG', 'ATG']\n",
      "['AT', 'TG', 'ATG']\n",
      "['CA', 'AT', 'CAT']\n",
      "['CC', 'CA', 'CCA']\n",
      "['GA', 'AT', 'GAT']\n",
      "['GC', 'CC', 'GCC']\n",
      "['GG', 'GA', 'GGA']\n",
      "['GG', 'GG', 'GGG']\n",
      "['GT', 'TT', 'GTT']\n",
      "['TA', 'AA', 'TAA']\n",
      "['TG', 'GC', 'TGC']\n",
      "['TG', 'GG', 'TGG']\n",
      "['TG', 'GT', 'TGT']\n",
      "['TT', 'TA', 'TTA']\n",
      "nodes:\n",
      "['AA', 'AT', 'CA', 'CC', 'GA', 'GC', 'GG', 'GT', 'TA', 'TG', 'TT']\n"
     ]
    }
   ],
   "source": [
    "print((\"n1\", \"n2\", \"edge\"))\n",
    "print(\"-\"*20)\n",
    "edges = []\n",
    "for node in graph:\n",
    "    for edge in graph[node]:\n",
    "        print([node, *edge])\n",
    "        edges.append([node, edge[0]])\n",
    "print(\"nodes:\")\n",
    "print([node for node in graph])"
   ]
  },
  {
   "cell_type": "code",
   "execution_count": 107,
   "id": "93131d20",
   "metadata": {},
   "outputs": [
    {
     "name": "stdout",
     "output_type": "stream",
     "text": [
      "The gvmagic extension is already loaded. To reload it, use:\n",
      "  %reload_ext gvmagic\n"
     ]
    }
   ],
   "source": [
    "# Needed to properly visualize graphs\n",
    "%load_ext gvmagic"
   ]
  },
  {
   "cell_type": "code",
   "execution_count": 108,
   "id": "a238b91e",
   "metadata": {
    "scrolled": false
   },
   "outputs": [
    {
     "data": {
      "image/svg+xml": [
       "<svg xmlns=\"http://www.w3.org/2000/svg\" xmlns:xlink=\"http://www.w3.org/1999/xlink\" width=\"284pt\" height=\"404pt\" viewBox=\"0.00 0.00 283.88 404.00\">\n",
       "<g id=\"graph0\" class=\"graph\" transform=\"scale(1 1) rotate(0) translate(4 400)\">\n",
       "<title>Assembly graph</title>\n",
       "<polygon fill=\"white\" stroke=\"transparent\" points=\"-4,4 -4,-400 279.88,-400 279.88,4 -4,4\"/>\n",
       "<!-- AA -->\n",
       "<g id=\"node1\" class=\"node\">\n",
       "<title>AA</title>\n",
       "<ellipse fill=\"none\" stroke=\"black\" cx=\"166.88\" cy=\"-378\" rx=\"27\" ry=\"18\"/>\n",
       "<text text-anchor=\"middle\" x=\"166.88\" y=\"-374.3\" font-family=\"Times-Roman\" font-size=\"14.00\">AA</text>\n",
       "</g>\n",
       "<!-- AT -->\n",
       "<g id=\"node2\" class=\"node\">\n",
       "<title>AT</title>\n",
       "<ellipse fill=\"none\" stroke=\"black\" cx=\"103.88\" cy=\"-306\" rx=\"27\" ry=\"18\"/>\n",
       "<text text-anchor=\"middle\" x=\"103.88\" y=\"-302.3\" font-family=\"Times-Roman\" font-size=\"14.00\">AT</text>\n",
       "</g>\n",
       "<!-- AA&#45;&gt;AT -->\n",
       "<g id=\"edge1\" class=\"edge\">\n",
       "<title>AA-&gt;AT</title>\n",
       "<path fill=\"none\" stroke=\"black\" d=\"M153.52,-362.15C145,-352.69 133.79,-340.24 124.19,-329.56\"/>\n",
       "<polygon fill=\"black\" stroke=\"black\" points=\"126.51,-326.92 117.22,-321.82 121.31,-331.6 126.51,-326.92\"/>\n",
       "</g>\n",
       "<!-- TG -->\n",
       "<g id=\"node3\" class=\"node\">\n",
       "<title>TG</title>\n",
       "<ellipse fill=\"none\" stroke=\"black\" cx=\"103.88\" cy=\"-234\" rx=\"27\" ry=\"18\"/>\n",
       "<text text-anchor=\"middle\" x=\"103.88\" y=\"-230.3\" font-family=\"Times-Roman\" font-size=\"14.00\">TG</text>\n",
       "</g>\n",
       "<!-- AT&#45;&gt;TG -->\n",
       "<g id=\"edge2\" class=\"edge\">\n",
       "<title>AT-&gt;TG</title>\n",
       "<path fill=\"none\" stroke=\"black\" d=\"M92.44,-289.46C90.42,-280.95 89.89,-270.17 90.84,-260.46\"/>\n",
       "<polygon fill=\"black\" stroke=\"black\" points=\"94.31,-260.92 92.45,-250.49 87.4,-259.8 94.31,-260.92\"/>\n",
       "</g>\n",
       "<!-- AT&#45;&gt;TG -->\n",
       "<g id=\"edge3\" class=\"edge\">\n",
       "<title>AT-&gt;TG</title>\n",
       "<path fill=\"none\" stroke=\"black\" d=\"M103.88,-287.7C103.88,-279.98 103.88,-270.71 103.88,-262.11\"/>\n",
       "<polygon fill=\"black\" stroke=\"black\" points=\"107.38,-262.1 103.88,-252.1 100.38,-262.1 107.38,-262.1\"/>\n",
       "</g>\n",
       "<!-- AT&#45;&gt;TG -->\n",
       "<g id=\"edge4\" class=\"edge\">\n",
       "<title>AT-&gt;TG</title>\n",
       "<path fill=\"none\" stroke=\"black\" d=\"M115.32,-289.46C117.34,-280.95 117.87,-270.17 116.92,-260.46\"/>\n",
       "<polygon fill=\"black\" stroke=\"black\" points=\"120.36,-259.8 115.31,-250.49 113.45,-260.92 120.36,-259.8\"/>\n",
       "</g>\n",
       "<!-- GC -->\n",
       "<g id=\"node7\" class=\"node\">\n",
       "<title>GC</title>\n",
       "<ellipse fill=\"none\" stroke=\"black\" cx=\"148.88\" cy=\"-162\" rx=\"27\" ry=\"18\"/>\n",
       "<text text-anchor=\"middle\" x=\"148.88\" y=\"-158.3\" font-family=\"Times-Roman\" font-size=\"14.00\">GC</text>\n",
       "</g>\n",
       "<!-- TG&#45;&gt;GC -->\n",
       "<g id=\"edge13\" class=\"edge\">\n",
       "<title>TG-&gt;GC</title>\n",
       "<path fill=\"none\" stroke=\"black\" d=\"M114.09,-217.12C119.73,-208.34 126.85,-197.26 133.18,-187.42\"/>\n",
       "<polygon fill=\"black\" stroke=\"black\" points=\"136.25,-189.13 138.71,-178.82 130.36,-185.34 136.25,-189.13\"/>\n",
       "</g>\n",
       "<!-- GG -->\n",
       "<g id=\"node8\" class=\"node\">\n",
       "<title>GG</title>\n",
       "<ellipse fill=\"none\" stroke=\"black\" cx=\"58.88\" cy=\"-162\" rx=\"27\" ry=\"18\"/>\n",
       "<text text-anchor=\"middle\" x=\"58.88\" y=\"-158.3\" font-family=\"Times-Roman\" font-size=\"14.00\">GG</text>\n",
       "</g>\n",
       "<!-- TG&#45;&gt;GG -->\n",
       "<g id=\"edge14\" class=\"edge\">\n",
       "<title>TG-&gt;GG</title>\n",
       "<path fill=\"none\" stroke=\"black\" d=\"M93.67,-217.12C88.03,-208.34 80.91,-197.26 74.58,-187.42\"/>\n",
       "<polygon fill=\"black\" stroke=\"black\" points=\"77.4,-185.34 69.05,-178.82 71.51,-189.13 77.4,-185.34\"/>\n",
       "</g>\n",
       "<!-- GT -->\n",
       "<g id=\"node9\" class=\"node\">\n",
       "<title>GT</title>\n",
       "<ellipse fill=\"none\" stroke=\"black\" cx=\"220.88\" cy=\"-162\" rx=\"27\" ry=\"18\"/>\n",
       "<text text-anchor=\"middle\" x=\"220.88\" y=\"-158.3\" font-family=\"Times-Roman\" font-size=\"14.00\">GT</text>\n",
       "</g>\n",
       "<!-- TG&#45;&gt;GT -->\n",
       "<g id=\"edge15\" class=\"edge\">\n",
       "<title>TG-&gt;GT</title>\n",
       "<path fill=\"none\" stroke=\"black\" d=\"M123.46,-221.28C142.36,-209.98 171.17,-192.74 192.57,-179.94\"/>\n",
       "<polygon fill=\"black\" stroke=\"black\" points=\"194.45,-182.89 201.23,-174.75 190.85,-176.89 194.45,-182.89\"/>\n",
       "</g>\n",
       "<!-- CA -->\n",
       "<g id=\"node4\" class=\"node\">\n",
       "<title>CA</title>\n",
       "<ellipse fill=\"none\" stroke=\"black\" cx=\"84.88\" cy=\"-18\" rx=\"27\" ry=\"18\"/>\n",
       "<text text-anchor=\"middle\" x=\"84.88\" y=\"-14.3\" font-family=\"Times-Roman\" font-size=\"14.00\">CA</text>\n",
       "</g>\n",
       "<!-- CA&#45;&gt;AT -->\n",
       "<g id=\"edge5\" class=\"edge\">\n",
       "<title>CA-&gt;AT</title>\n",
       "<path fill=\"none\" stroke=\"black\" d=\"M61.27,-27.17C41.96,-35.25 15.95,-49.68 3.88,-72 -3.73,-86.07 2.45,-92.06 3.88,-108 9.72,-173.21 -1.02,-197.25 34.88,-252 44.8,-267.13 60.54,-279.7 74.48,-288.8\"/>\n",
       "<polygon fill=\"black\" stroke=\"black\" points=\"72.96,-291.98 83.31,-294.27 76.65,-286.03 72.96,-291.98\"/>\n",
       "</g>\n",
       "<!-- CC -->\n",
       "<g id=\"node5\" class=\"node\">\n",
       "<title>CC</title>\n",
       "<ellipse fill=\"none\" stroke=\"black\" cx=\"130.88\" cy=\"-90\" rx=\"27\" ry=\"18\"/>\n",
       "<text text-anchor=\"middle\" x=\"130.88\" y=\"-86.3\" font-family=\"Times-Roman\" font-size=\"14.00\">CC</text>\n",
       "</g>\n",
       "<!-- CC&#45;&gt;CA -->\n",
       "<g id=\"edge6\" class=\"edge\">\n",
       "<title>CC-&gt;CA</title>\n",
       "<path fill=\"none\" stroke=\"black\" d=\"M120.44,-73.12C114.68,-64.34 107.4,-53.26 100.92,-43.42\"/>\n",
       "<polygon fill=\"black\" stroke=\"black\" points=\"103.69,-41.26 95.28,-34.82 97.84,-45.1 103.69,-41.26\"/>\n",
       "</g>\n",
       "<!-- GA -->\n",
       "<g id=\"node6\" class=\"node\">\n",
       "<title>GA</title>\n",
       "<ellipse fill=\"none\" stroke=\"black\" cx=\"39.88\" cy=\"-90\" rx=\"27\" ry=\"18\"/>\n",
       "<text text-anchor=\"middle\" x=\"39.88\" y=\"-86.3\" font-family=\"Times-Roman\" font-size=\"14.00\">GA</text>\n",
       "</g>\n",
       "<!-- GA&#45;&gt;AT -->\n",
       "<g id=\"edge7\" class=\"edge\">\n",
       "<title>GA-&gt;AT</title>\n",
       "<path fill=\"none\" stroke=\"black\" d=\"M32.25,-107.28C24.85,-125.29 15.72,-155.05 22.88,-180 34.36,-220.02 63.44,-259.15 83.44,-282.67\"/>\n",
       "<polygon fill=\"black\" stroke=\"black\" points=\"80.89,-285.07 90.09,-290.32 86.17,-280.48 80.89,-285.07\"/>\n",
       "</g>\n",
       "<!-- GC&#45;&gt;CC -->\n",
       "<g id=\"edge8\" class=\"edge\">\n",
       "<title>GC-&gt;CC</title>\n",
       "<path fill=\"none\" stroke=\"black\" d=\"M144.52,-144.05C142.49,-136.14 140.02,-126.54 137.74,-117.69\"/>\n",
       "<polygon fill=\"black\" stroke=\"black\" points=\"141.08,-116.6 135.2,-107.79 134.3,-118.35 141.08,-116.6\"/>\n",
       "</g>\n",
       "<!-- GG&#45;&gt;GA -->\n",
       "<g id=\"edge9\" class=\"edge\">\n",
       "<title>GG-&gt;GA</title>\n",
       "<path fill=\"none\" stroke=\"black\" d=\"M54.28,-144.05C52.13,-136.14 49.53,-126.54 47.12,-117.69\"/>\n",
       "<polygon fill=\"black\" stroke=\"black\" points=\"50.43,-116.52 44.44,-107.79 43.68,-118.36 50.43,-116.52\"/>\n",
       "</g>\n",
       "<!-- GG&#45;&gt;GG -->\n",
       "<g id=\"edge10\" class=\"edge\">\n",
       "<title>GG-&gt;GG</title>\n",
       "<path fill=\"none\" stroke=\"black\" d=\"M78.77,-174.43C91.57,-177.68 103.88,-173.53 103.88,-162 103.88,-153.62 97.38,-149.14 88.92,-148.56\"/>\n",
       "<polygon fill=\"black\" stroke=\"black\" points=\"88.38,-145.1 78.77,-149.57 89.07,-152.07 88.38,-145.1\"/>\n",
       "</g>\n",
       "<!-- TT -->\n",
       "<g id=\"node10\" class=\"node\">\n",
       "<title>TT</title>\n",
       "<ellipse fill=\"none\" stroke=\"black\" cx=\"220.88\" cy=\"-90\" rx=\"27\" ry=\"18\"/>\n",
       "<text text-anchor=\"middle\" x=\"220.88\" y=\"-86.3\" font-family=\"Times-Roman\" font-size=\"14.00\">TT</text>\n",
       "</g>\n",
       "<!-- GT&#45;&gt;TT -->\n",
       "<g id=\"edge11\" class=\"edge\">\n",
       "<title>GT-&gt;TT</title>\n",
       "<path fill=\"none\" stroke=\"black\" d=\"M220.88,-143.7C220.88,-135.98 220.88,-126.71 220.88,-118.11\"/>\n",
       "<polygon fill=\"black\" stroke=\"black\" points=\"224.38,-118.1 220.88,-108.1 217.38,-118.1 224.38,-118.1\"/>\n",
       "</g>\n",
       "<!-- TA -->\n",
       "<g id=\"node11\" class=\"node\">\n",
       "<title>TA</title>\n",
       "<ellipse fill=\"none\" stroke=\"black\" cx=\"247.88\" cy=\"-18\" rx=\"27\" ry=\"18\"/>\n",
       "<text text-anchor=\"middle\" x=\"247.88\" y=\"-14.3\" font-family=\"Times-Roman\" font-size=\"14.00\">TA</text>\n",
       "</g>\n",
       "<!-- TT&#45;&gt;TA -->\n",
       "<g id=\"edge16\" class=\"edge\">\n",
       "<title>TT-&gt;TA</title>\n",
       "<path fill=\"none\" stroke=\"black\" d=\"M227.28,-72.41C230.39,-64.34 234.21,-54.43 237.71,-45.35\"/>\n",
       "<polygon fill=\"black\" stroke=\"black\" points=\"241.01,-46.55 241.34,-35.96 234.47,-44.03 241.01,-46.55\"/>\n",
       "</g>\n",
       "<!-- TA&#45;&gt;AA -->\n",
       "<g id=\"edge12\" class=\"edge\">\n",
       "<title>TA-&gt;AA</title>\n",
       "<path fill=\"none\" stroke=\"black\" d=\"M253.41,-35.84C261.57,-62.21 275.88,-115.02 275.88,-161 275.88,-235 275.88,-235 275.88,-235 275.88,-288.63 226.34,-334.49 194.06,-358.68\"/>\n",
       "<polygon fill=\"black\" stroke=\"black\" points=\"191.9,-355.92 185.87,-364.63 196.01,-361.58 191.9,-355.92\"/>\n",
       "</g>\n",
       "</g>\n",
       "</svg>"
      ],
      "text/plain": [
       "<IPython.core.display.SVG object>"
      ]
     },
     "metadata": {},
     "output_type": "display_data"
    }
   ],
   "source": [
    "# Helper function to visualize graphs        \n",
    "%dotstr utils.viz_graph([node for node in graph], edges) #has the nodes and the edges defined by the two nodes"
   ]
  },
  {
   "cell_type": "code",
   "execution_count": 80,
   "id": "70b334e0",
   "metadata": {},
   "outputs": [
    {
     "name": "stdout",
     "output_type": "stream",
     "text": [
      "Graph not Eulerian!\n"
     ]
    },
    {
     "ename": "RuntimeError",
     "evalue": "No active exception to reraise",
     "output_type": "error",
     "traceback": [
      "\u001b[0;31m---------------------------------------------------------------------------\u001b[0m",
      "\u001b[0;31mRuntimeError\u001b[0m                              Traceback (most recent call last)",
      "\u001b[0;32m<ipython-input-80-c8b6aff36972>\u001b[0m in \u001b[0;36m<module>\u001b[0;34m\u001b[0m\n\u001b[1;32m     47\u001b[0m \u001b[0mgraph\u001b[0m \u001b[0;34m=\u001b[0m \u001b[0mbuild_graph\u001b[0m\u001b[0;34m(\u001b[0m\u001b[0;36m3\u001b[0m\u001b[0;34m,\u001b[0m \u001b[0msequence_reads\u001b[0m\u001b[0;34m)\u001b[0m\u001b[0;34m\u001b[0m\u001b[0;34m\u001b[0m\u001b[0m\n\u001b[1;32m     48\u001b[0m \u001b[0;32mif\u001b[0m \u001b[0;32mnot\u001b[0m \u001b[0mgraph\u001b[0m\u001b[0;34m:\u001b[0m\u001b[0;34m\u001b[0m\u001b[0;34m\u001b[0m\u001b[0m\n\u001b[0;32m---> 49\u001b[0;31m     \u001b[0;32mraise\u001b[0m \u001b[0;31m#ends the cell if the graph is not Eulerian\u001b[0m\u001b[0;34m\u001b[0m\u001b[0;34m\u001b[0m\u001b[0m\n\u001b[0m\u001b[1;32m     50\u001b[0m \u001b[0mgraph2\u001b[0m \u001b[0;34m=\u001b[0m \u001b[0mgraph\u001b[0m\u001b[0;34m.\u001b[0m\u001b[0mcopy\u001b[0m\u001b[0;34m(\u001b[0m\u001b[0;34m)\u001b[0m\u001b[0;34m\u001b[0m\u001b[0;34m\u001b[0m\u001b[0m\n\u001b[1;32m     51\u001b[0m \u001b[0mEulerianCycle\u001b[0m \u001b[0;34m=\u001b[0m \u001b[0mEuler_Cycle\u001b[0m\u001b[0;34m(\u001b[0m\u001b[0msorted\u001b[0m\u001b[0;34m(\u001b[0m\u001b[0mgraph\u001b[0m\u001b[0;34m.\u001b[0m\u001b[0mkeys\u001b[0m\u001b[0;34m(\u001b[0m\u001b[0;34m)\u001b[0m\u001b[0;34m)\u001b[0m\u001b[0;34m,\u001b[0m \u001b[0mgraph\u001b[0m\u001b[0;34m)\u001b[0m\u001b[0;34m\u001b[0m\u001b[0;34m\u001b[0m\u001b[0m\n",
      "\u001b[0;31mRuntimeError\u001b[0m: No active exception to reraise"
     ]
    }
   ],
   "source": [
    "def Single_Cycle(node, graph):\n",
    "        \n",
    "    startNode = node #this is where you start the cycle\n",
    "    curNode = node #currently at the start\n",
    "    cycleStart = True #just a measure to make sure the while loop runs\n",
    "        \n",
    "    cycle = [curNode] #start the cycle at the starting node\n",
    "    while curNode != startNode or cycleStart:\n",
    "        cycleStart = False #the cycle is not set to start anymore\n",
    "        edges = graph[curNode]\n",
    "        if edges != []:\n",
    "            temp = edges[-1] #moves to the next node\n",
    "            graph[curNode] = graph[curNode][:-1] #removes that edge from the dictionary by removing a list value\n",
    "            curNode = temp[0] #gets the node from the temp value\n",
    "            cycle.append(curNode)\n",
    "                            \n",
    "    return cycle[:-1] #return the path of everything but remove the last node so it isn't a cycle\n",
    "\n",
    "def Euler_Cycle(nodes, graph):\n",
    "    starting_cycle = Single_Cycle(nodes[0], graph) #start at the beginning of the list cause why not\n",
    "    print(\"cycle starting at\", nodes[0] +\":\", starting_cycle)\n",
    "    while any(list(graph.values())): #checks if there are any paths that haven't been eliminated\n",
    "        print()\n",
    "        new_starting_node = None\n",
    "        for node in starting_cycle:\n",
    "            if graph[node] != []: #find new edge in the starting cycle\n",
    "                new_starting_node = node #start the new cycle here and break the loop\n",
    "                break\n",
    "        \n",
    "        cycle_prime = Single_Cycle(new_starting_node, graph)\n",
    "        print(\"new cycle starting at\", new_starting_node+\":\", cycle_prime)\n",
    "        \n",
    "        insertion_index = starting_cycle.index(new_starting_node)\n",
    "        \n",
    "        for n,i in enumerate(cycle_prime):\n",
    "            starting_cycle.insert(insertion_index + n, i)\n",
    "        \n",
    "        print(\"new updated cycle:\", starting_cycle)\n",
    "    \n",
    "    Eulerian_edges = []\n",
    "    for i in range(len(starting_cycle) - 1):\n",
    "        Eulerian_edges.append(starting_cycle[i][0] + starting_cycle[i+1])\n",
    "    \n",
    "    return Eulerian_edges #returns the set of edges traversed\n",
    "\n",
    "# graph = build_graph(3, ['ATGCTA', 'GCTAGC', 'TAGCAC', 'GCACAT', 'ACATGC'])\n",
    "# graph = build_graph(3, sequence_reads)\n",
    "if not graph:\n",
    "    raise #ends the cell if the graph is not Eulerian\n",
    "graph2 = graph.copy()\n",
    "EulerianCycle = Euler_Cycle(sorted(graph.keys()), graph)\n",
    "print()\n",
    "print(EulerianCycle)"
   ]
  },
  {
   "cell_type": "code",
   "execution_count": 71,
   "id": "3c4f6bfc",
   "metadata": {},
   "outputs": [],
   "source": [
    "def assemble_sequence(path):\n",
    "    #I have no clue\n",
    "    return path"
   ]
  },
  {
   "cell_type": "code",
   "execution_count": 73,
   "id": "a5b1b2e3",
   "metadata": {},
   "outputs": [],
   "source": [
    "# Output assembled sequence\n",
    "# Hint: Sequence is 200 nucleotides long\n",
    "assembled_seq = assemble_sequence(EulerianCycle)"
   ]
  },
  {
   "cell_type": "markdown",
   "id": "91454973",
   "metadata": {},
   "source": [
    "<div class=\"alert alert-success\"> \n",
    "    \n",
    "**Problem 6.** Which of the two assembly methods did you use for problem 5, and why? (Hint: consider how the costs scale with the number of reads.)\n",
    "    \n",
    "</div>"
   ]
  },
  {
   "cell_type": "markdown",
   "id": "9c68ae0c",
   "metadata": {},
   "source": [
    "## Part 2: Sequencing SARS-CoV-2 virus"
   ]
  },
  {
   "cell_type": "markdown",
   "id": "bb9104f8",
   "metadata": {},
   "source": [
    "Let's move on from TeleTubbies to real-world organisms. For this problem, you'll assemble a genome for a variant of the SARS-CoV-2 virus. You're given reads from <i>actual</i> genome sequencing runs in the provided `SARS-CoV2.fastq` file. The file is based on the first Covid genome that was submitted on 5 January 2020: [https://www.ncbi.nlm.nih.gov/nuccore/NC_045512](https://www.ncbi.nlm.nih.gov/nuccore/NC_045512) But, you should be reconstructing a sequence from the provided reads without looking at the source sequence.\n",
    "\n",
    "<div class=\"alert alert-success\">\n",
    "    \n",
    "**Problem 7.**  Reconstruct the SATS-CoV2 genome from the provided sequence reads using $k=25$. \n",
    "    \n",
    "</div>\n",
    "\n",
    "You can re-use your implementation from Problem 5 and simply run it on the new data (depending on what you did for Problem 5, that might be enough to solve this problem). \n",
    "\n",
    "Print out your reconstructed sequence to a file `output.txt` (and add this file to the repo you submit). For this part, we will still assume that all the reads are error-free. "
   ]
  },
  {
   "cell_type": "code",
   "execution_count": null,
   "id": "490daca9",
   "metadata": {},
   "outputs": [],
   "source": [
    "# Read sequence reads\n",
    "sequence_reads_covid, qualities_covid = utils.read_fastq('SARS-CoV2.fastq')"
   ]
  },
  {
   "cell_type": "code",
   "execution_count": null,
   "id": "3dfbe110",
   "metadata": {},
   "outputs": [],
   "source": [
    "# Read reads into graph\n",
    "nodes_covid, edges_covid = build_graph(sequence_reads_covid)"
   ]
  },
  {
   "cell_type": "code",
   "execution_count": null,
   "id": "011414e6",
   "metadata": {},
   "outputs": [],
   "source": [
    "# Call main assembly algorithm\n",
    "assmebled_covid_seq = assemble_sequence(nodes_covid, edges_covid)"
   ]
  },
  {
   "cell_type": "code",
   "execution_count": null,
   "id": "b8818bf5",
   "metadata": {},
   "outputs": [],
   "source": [
    "# Write assembled sequence to file\n",
    "with open(\"output.txt\", \"w\") as f:\n",
    "    f.write(assmebled_covid_seq)"
   ]
  },
  {
   "cell_type": "markdown",
   "id": "a3cc7d97",
   "metadata": {},
   "source": [
    "# Part 3: Error-Aware Assembly (Challenge Problem)"
   ]
  },
  {
   "cell_type": "markdown",
   "id": "9c03fa24",
   "metadata": {},
   "source": [
    "<div class=\"alert alert-warning\">\n",
    "    This problem is a \"Challenge Problem\". This means it is a problem of unknown difficulty that might be quite challenging (unlike the earlier problems, we don't have a reference solution for this one, or a clear idea how hard it might be). We do hope all students will at least attempt this and that more ambitious students will work hard to solve it and learn interesting things by the attempt (whether or not it is successful), but not get frustrated if you can't get to the desired answer.  As a \"Challenge Problem\" it means that you shouldn't be worried if you are not able to solve this, though, and you can get full expected credit on this assignment without answering it.\n",
    "</div>\n",
    "\n",
    "\n",
    "In the parts above, we assumed error-free reads while assembling $k$-mers. As much as we'd like that, actual reads can (and do) have errors, captured by their Phred scores. \n",
    "\n",
    "For this question, you're given raw, actual reads from sequencing runs. Download the reads from this file:\n",
    "https://sra-pub-sars-cov2.s3.amazonaws.com/sra-src/SRR11528307/ABS2-LN-R1_cleaned_paired.fastq.gz.  \n",
    "\n",
    "\n",
    "<div class=\"alert alert-success\">\n",
    "    \n",
    "**Problem 8 (Challenge).** Give the reads in the linked fastq file above, including their Phred33 quality score, assemble the most likely genome. Your solution should output the assembled sequence in `challenge.txt`. Provide a brief explantion of how your algorithm works and interesting things you learned in developing it.\n",
    "    \n",
    "</div>\n",
    "    \n",
    "This is an open-ended question. You are free to use any approach to deal with the issue. Make sure you provide your code, along with any assumptions you may have."
   ]
  },
  {
   "cell_type": "markdown",
   "id": "5d7e82e1",
   "metadata": {},
   "source": [
    "_Write a description of your algorithm, and things you learned from working on this here._"
   ]
  },
  {
   "cell_type": "code",
   "execution_count": null,
   "id": "4594e10b",
   "metadata": {},
   "outputs": [],
   "source": [
    "# implementation "
   ]
  },
  {
   "cell_type": "markdown",
   "id": "89a97c21",
   "metadata": {},
   "source": [
    "   <div class=\"alert alert-block alert-danger\">\n",
    "    <center>\n",
    "        \n",
    " **Remember to follow the submission directions above to submit your assignment by 4:59pm on Tuesday, 8 February.**\n",
    "    \n",
    " </center>\n",
    " </div>"
   ]
  }
 ],
 "metadata": {
  "kernelspec": {
   "display_name": "Python 3",
   "language": "python",
   "name": "python3"
  },
  "language_info": {
   "codemirror_mode": {
    "name": "ipython",
    "version": 3
   },
   "file_extension": ".py",
   "mimetype": "text/x-python",
   "name": "python",
   "nbconvert_exporter": "python",
   "pygments_lexer": "ipython3",
   "version": "3.9.2"
  }
 },
 "nbformat": 4,
 "nbformat_minor": 5
}
