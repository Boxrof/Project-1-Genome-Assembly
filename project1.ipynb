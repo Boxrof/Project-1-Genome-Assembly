{
 "cells": [
  {
   "cell_type": "markdown",
   "id": "7da87395",
   "metadata": {},
   "source": [
    "# Project 1: Assembling Genomes"
   ]
  },
  {
   "cell_type": "markdown",
   "id": "a9645da6",
   "metadata": {},
   "source": [
    "\n",
    "   <div class=\"alert alert-block alert-danger\">\n",
    "    <center>Due: <b>Tuesday, 8 February, 4:59pm</b>.</center> \n",
    "   </div>\n",
    "   \n",
    "   <div class=\"alert alert-block alert-warning\">\n",
    "   <center>\n",
    "       <b>Collaboration and Resource Policy</b>\n",
    "    </center>\n",
    "    For this assignment, you are encouraged to work with one other person. Your team must satisfy the constraints mentioned in <a href=\"https://www.dropbox.com/s/g6z2xncwc4jsplp/csbio-class2-inked.pdf?dl=0\">Class 2</a>.\n",
    "    \n",
    "   1. You went to different high schools.\n",
    "   2. You and your partner have different answers to <em>at least one</em> of these questions:\n",
    "       - What country were you born in?\n",
    "       - Have you taken any biology courses at UVA?\n",
    "       - Have you taken cs3102?\n",
    "       - Have you taken cs4102?\n",
    "    \n",
    "We expect most students will have the best learning experience on this assignment by working with a partner, but if you prefer to work alone it is okay to do this assignment on your own.\n",
    "    \n",
    "You are permitted (actually _encouraged_) to discuss these problems with anyone you want, including other students in the class. If you do discuss the specific questions in the assignment with anyone other than your assignment partner and the course staff, though, you should list them in the _External resources used_ section below.\n",
    "    \n",
    "You are welcome to use any resources you want for this assignment, other than ones that would defeat the purpose of the assignment. This means you should not look at answers or code from any other students in the class (other than your collaboration with your partner), and if you find code that implements the problem you are being asked to do for the assignment, you should not use that code. You should document all external resource you use that are not part of the course materials in the _External resources used_ section below."
   ]
  },
  {
   "cell_type": "markdown",
   "id": "14179769",
   "metadata": {},
   "source": [
    "**Team submitting this assignment:**  \n",
    "<div class=\"alert alert-success\">\n",
    "    <b><em>Mohit Srivastav (mvs2dq) & Promotto Islam (pti9ea)</em></b>\n",
    "</div>\n",
    "\n",
    "**External resources used:** \n",
    "<div class=\"alert alert-success\">\n",
    "<em>It is not necessary to list the course materials, but if you used any other resources, including discussing problems with students not on your team, list them here.</em>\n",
    "</div>"
   ]
  },
  {
   "cell_type": "markdown",
   "id": "57bc46a1",
   "metadata": {},
   "source": [
    "In this project, we will explore genome assembly — the process of determining the order of nucleotides from fragmented reads that are produced by sequencing machines. \n",
    "\n",
    "Genome assembly maps to a very well defined computer science problem, but can get quite complicated, as problems such as full sequence coverage, finding a good length for reads (the $k$ in $k$-mer), and sequencing errors present challenges for sequencing analysis and accuracy. For the required problems (ones everyone is expected to solve), you will be able to assume perfect coverage and no read errors; for the \"challenge\" problem (that is considered a bonus, and not something we expect everyone to be able to solve, and perhaps may not even be feasible for anyone to solve) you will not be able to rely on such assumptions."
   ]
  },
  {
   "cell_type": "markdown",
   "id": "b701651a",
   "metadata": {},
   "source": [
    " <div class=\"alert alert-block alert-warning\">\n",
    "    \n",
    "<b>Submission</b>: You should work on this assignment by forking the provided Project 1 repository (you probably already did this, following the instructions posted at [https://computingbiology.github.io/project1](https://computingbiology.github.io/project1). Add the other teammate to as a collaborator with write access (also under the Settings tab) to this repository.\n",
    "    \n",
    "You should answer the questions and write your code in this Jupyter Notebook. (We don't expect you to need to use any external files or organize your code outside of the notebook, but if you do, make sure to put everything needed to run your code in your repository.) Parts where you are expected to provide and answer (which could be text that can be written in markdown format in the notebook or Python code that runs in the notebook) are marked in green.\n",
    "        \n",
    "When you are ready to submit the assignment, you should create a release of the version you are submitting ([github's directions for how to create a release](https://docs.github.com/en/repositories/releasing-projects-on-github/managing-releases-in-a-repository)) tagged as `submit`. After you've done this, send a message in slack to a channel that includes both team members (so the one sending this message should include the other team member) and all of the course staff (`dave`, `Hyun Jae Cho`, and `Anshuman Suri`) and a link to your repository (feel free to add any other useful comments if you want, but the link to your submission repository is sufficient)."
   ]
  },
  {
   "cell_type": "markdown",
   "id": "6ddc5cc5",
   "metadata": {},
   "source": [
    "## Getting Started"
   ]
  },
  {
   "cell_type": "markdown",
   "id": "65e42801",
   "metadata": {},
   "source": [
    "1. Install basic required packages, should be run only once. You may need to restart the jupyter python kernel (under the Kernel menu) after this. (You can execute this directly in the notebook but running the command below.)"
   ]
  },
  {
   "cell_type": "code",
   "execution_count": 1,
   "id": "9df18fe5",
   "metadata": {},
   "outputs": [
    {
     "name": "stdout",
     "output_type": "stream",
     "text": [
      "Collecting gvmagic\n",
      "  Downloading gvmagic-0.5.tar.gz (6.5 kB)\n",
      "Requirement already satisfied: numpy in c:\\users\\bluescreenie_iii\\appdata\\local\\programs\\python\\python37\\lib\\site-packages (from -r requirements.txt (line 2)) (1.17.3)\n",
      "Requirement already satisfied: matplotlib in c:\\users\\bluescreenie_iii\\appdata\\local\\programs\\python\\python37\\lib\\site-packages (from -r requirements.txt (line 3)) (3.1.1)\n",
      "Collecting pydot\n",
      "  Downloading pydot-1.4.2-py2.py3-none-any.whl (21 kB)\n",
      "Requirement already satisfied: pyparsing!=2.0.4,!=2.1.2,!=2.1.6,>=2.0.1 in c:\\users\\bluescreenie_iii\\appdata\\local\\programs\\python\\python37\\lib\\site-packages (from matplotlib->-r requirements.txt (line 3)) (2.4.4)\n",
      "Requirement already satisfied: python-dateutil>=2.1 in c:\\users\\bluescreenie_iii\\appdata\\local\\programs\\python\\python37\\lib\\site-packages (from matplotlib->-r requirements.txt (line 3)) (2.8.1)\n",
      "Requirement already satisfied: kiwisolver>=1.0.1 in c:\\users\\bluescreenie_iii\\appdata\\local\\programs\\python\\python37\\lib\\site-packages (from matplotlib->-r requirements.txt (line 3)) (1.1.0)\n",
      "Requirement already satisfied: cycler>=0.10 in c:\\users\\bluescreenie_iii\\appdata\\local\\programs\\python\\python37\\lib\\site-packages (from matplotlib->-r requirements.txt (line 3)) (0.10.0)\n",
      "Requirement already satisfied: six in c:\\users\\bluescreenie_iii\\appdata\\local\\programs\\python\\python37\\lib\\site-packages (from cycler>=0.10->matplotlib->-r requirements.txt (line 3)) (1.13.0)\n",
      "Requirement already satisfied: setuptools in c:\\users\\bluescreenie_iii\\appdata\\local\\programs\\python\\python37\\lib\\site-packages (from kiwisolver>=1.0.1->matplotlib->-r requirements.txt (line 3)) (41.2.0)\n",
      "Building wheels for collected packages: gvmagic\n",
      "  Building wheel for gvmagic (setup.py): started\n",
      "  Building wheel for gvmagic (setup.py): finished with status 'done'\n",
      "  Created wheel for gvmagic: filename=gvmagic-0.5-py3-none-any.whl size=10379 sha256=9a60a3de110f41a377e54c02399a9fa194a1b4413830bb7a63426c55e5188c01\n",
      "  Stored in directory: c:\\users\\bluescreenie_iii\\appdata\\local\\pip\\cache\\wheels\\e5\\ad\\b2\\2ba1aaaf5b2004d96473291c80f98d4524a01c6d6e9d468172\n",
      "Successfully built gvmagic\n",
      "Installing collected packages: pydot, gvmagic\n",
      "Successfully installed gvmagic-0.5 pydot-1.4.2\n",
      "Note: you may need to restart the kernel to use updated packages.\n"
     ]
    },
    {
     "name": "stderr",
     "output_type": "stream",
     "text": [
      "WARNING: You are using pip version 21.0.1; however, version 21.3.1 is available.\n",
      "You should consider upgrading via the 'C:\\Users\\Bluescreenie_III\\AppData\\Local\\Programs\\Python\\Python37\\pythonw.exe -m pip install --upgrade pip' command.\n"
     ]
    }
   ],
   "source": [
    "%pip install -r requirements.txt"
   ]
  },
  {
   "cell_type": "markdown",
   "id": "68cf7d92",
   "metadata": {},
   "source": [
    "2. Make sure you have [graphviz](https://graphviz.org/) installed on your system. (On a Mac OS X, `brew install graphviz`. For other platforms, see [_https://graphviz.org/download/_](https://graphviz.org/download/).)"
   ]
  },
  {
   "cell_type": "code",
   "execution_count": 2,
   "id": "d39abe1f",
   "metadata": {},
   "outputs": [],
   "source": [
    "import collections\n",
    "import matplotlib.pyplot as plt\n",
    "\n",
    "import utils"
   ]
  },
  {
   "cell_type": "markdown",
   "id": "5554e2bc",
   "metadata": {},
   "source": [
    "## Part 1: Assembling the TeleTubby Genome"
   ]
  },
  {
   "cell_type": "markdown",
   "id": "7985c6cb",
   "metadata": {},
   "source": [
    "For this part, you're given reads generated while trying to sequence the DNA of a mysterious unknown organism with a _tiny_ genome. Some of the course staff is not sure what a TeleTubby is, but I've been assured that no cute creatures were harmed in producing this data (which was generated synthetically).\n",
    "\n",
    "By answering the following questions, you will learn how to assemble the original genome sequence from sequence reads.\n",
    "\n",
    "Sequencing data is often stored in the FASTQ file format, with is a simple ASCII format that is somewhat human-readable. \n",
    "\n",
    "In _TeleTubby.fastq_ (which is included in the repository you forked), you will find the data that was read from the TeleTubby genome. Each four lines of the file repeat the same pattern. For example,\n",
    "```\n",
    "@TeleTubby Genome: Project 1\n",
    "TAAAATGG\n",
    "+\n",
    "HAICDF5I\n",
    "```\n",
    "The first line contains the metadata that encodes the name of the read, the experiment type, the kind of sequencing machine used, etc. \n",
    "\n",
    "The second line is the sequence of bases that was read. \n",
    "\n",
    "The third line is just a placeholder.\n",
    "\n",
    "The fourth line is a sequence of base qualities that encodes the qualities for the corresponding bases in the sequence line. We will discuss and use this for Problem 2."
   ]
  },
  {
   "cell_type": "markdown",
   "id": "744fd5da",
   "metadata": {},
   "source": [
    "Read in the data from `TeleTubby.fastq`:"
   ]
  },
  {
   "cell_type": "code",
   "execution_count": 3,
   "id": "04406782",
   "metadata": {},
   "outputs": [],
   "source": [
    "# Read sequence reads (error-free) from file\n",
    "sequence_reads, qualities = utils.read_fastq('TeleTubby.fastq')"
   ]
  },
  {
   "cell_type": "code",
   "execution_count": 4,
   "id": "5cfa3a6a",
   "metadata": {},
   "outputs": [
    {
     "data": {
      "text/plain": [
       "['ACCACGTA',\n",
       " 'CCACCACG',\n",
       " 'CGATGGTA',\n",
       " 'TTTTGGTC',\n",
       " 'ACTCGGAG',\n",
       " 'CGGAGGAT',\n",
       " 'ATAGGTGA',\n",
       " 'TAAAATGG',\n",
       " 'TATGCCAA',\n",
       " 'TACAGGTG',\n",
       " 'CAACGCTT',\n",
       " 'TGACTCGG',\n",
       " 'AGGTGTCG',\n",
       " 'ACGTATCC',\n",
       " 'TGGTCGTA',\n",
       " 'CCAACGCT',\n",
       " 'TGTTGATA',\n",
       " 'CTCGGAGG',\n",
       " 'TGATAAAA',\n",
       " 'GGCCACAT',\n",
       " 'ATAATTTT',\n",
       " 'ATGGTAAA',\n",
       " 'GTAAACCT',\n",
       " 'ACAGGTGT',\n",
       " 'ATCCCCCG',\n",
       " 'ATAAAATG',\n",
       " 'AATGGCCA',\n",
       " 'AGGTGACT',\n",
       " 'GATGGTAA',\n",
       " 'GCACATGG',\n",
       " 'GGATCACT',\n",
       " 'TGATAGGT',\n",
       " 'CACCACGT',\n",
       " 'ATCACTTT',\n",
       " 'CGTACATC',\n",
       " 'TTAACGAC',\n",
       " 'TCGTGTTA',\n",
       " 'TCGTACAT',\n",
       " 'CACATGGC',\n",
       " 'CTCCGGTA',\n",
       " 'AGTGATAG',\n",
       " 'TCATGCAC',\n",
       " 'TGTCATGC',\n",
       " 'CACATAAT',\n",
       " 'ACGCTTAC',\n",
       " 'TTGATAAA',\n",
       " 'CCCGCGCA',\n",
       " 'CCACGTAT',\n",
       " 'GTCGATGG',\n",
       " 'GCATCGTG',\n",
       " 'ACTTTAAC',\n",
       " 'TACCGACG',\n",
       " 'TCGAGTGA',\n",
       " 'AGGGGATT',\n",
       " 'TCGTACAG',\n",
       " 'GGAGGATC',\n",
       " 'CACGTATC',\n",
       " 'CACTTTAA',\n",
       " 'CTACCGAC',\n",
       " 'CCGCGCAT',\n",
       " 'TACATCCC',\n",
       " 'CCACATAA',\n",
       " 'CTTTAACG',\n",
       " 'ACGACCAC',\n",
       " 'CGAGTGAT',\n",
       " 'ATAGGGGA',\n",
       " 'GGTCGTAC',\n",
       " 'CATCGTGT',\n",
       " 'TGTGTCGA',\n",
       " 'ATAAAATG',\n",
       " 'GTGTCGAT',\n",
       " 'GTCGTACA',\n",
       " 'CGCGCATC',\n",
       " 'CCCCACCA',\n",
       " 'CCACGGAC',\n",
       " 'GGTAAACC',\n",
       " 'TGGCCACA',\n",
       " 'AAAATGGC',\n",
       " 'TTTAACGA',\n",
       " 'TACATAGG',\n",
       " 'AATGTCAT',\n",
       " 'TCGGAGGA',\n",
       " 'GATAGGTG',\n",
       " 'CATAATTT',\n",
       " 'AAACCTGT',\n",
       " 'ATTGTGTC',\n",
       " 'GTGTCGAG',\n",
       " 'CATCGTAC',\n",
       " 'CCGACGAA',\n",
       " 'TAACGACC',\n",
       " 'GTGACTCG',\n",
       " 'TTGTGTCG',\n",
       " 'GACGAATG',\n",
       " 'ATGGCCCC',\n",
       " 'AATTTTTG',\n",
       " 'ATCCATCG',\n",
       " 'CTGTTGAT',\n",
       " 'ATCGTACA',\n",
       " 'ACGGACTC',\n",
       " 'TGGTAAAC',\n",
       " 'CGTATCCA',\n",
       " 'GTATCCAT',\n",
       " 'GCCAACGC',\n",
       " 'GTCATGCA',\n",
       " 'ACATAATT',\n",
       " 'GATCACTT',\n",
       " 'GTGATAGG',\n",
       " 'TGTCGATG',\n",
       " 'CGGACTCC',\n",
       " 'GAGTGATA',\n",
       " 'AACGCTTA',\n",
       " 'GAGGATCA',\n",
       " 'CGAATGTC',\n",
       " 'ACATAGGG',\n",
       " 'CATCCCCC',\n",
       " 'GTACATCC',\n",
       " 'TGCCAACG',\n",
       " 'AACCTGTT',\n",
       " 'CGTGTTAT',\n",
       " 'GGGATTGT',\n",
       " 'AGGATCAC',\n",
       " 'TTTTTGGT',\n",
       " 'TAATTTTT',\n",
       " 'TAGGGGAT',\n",
       " 'GGATTGTG',\n",
       " 'GGTGACTC',\n",
       " 'CCGGTAGA',\n",
       " 'ATCGTGTT',\n",
       " 'ACCGACGA',\n",
       " 'ATGCCAAC',\n",
       " 'CGACCACG',\n",
       " 'TCGATGGT',\n",
       " 'GTTGATAA',\n",
       " 'TTATGCCA',\n",
       " 'GGACTCCG',\n",
       " 'CCTACCGA',\n",
       " 'CGACGAAT',\n",
       " 'ACTCCGGT',\n",
       " 'CATAGGGG',\n",
       " 'TGCACATG',\n",
       " 'ACCTGTTG',\n",
       " 'GATAAAAT',\n",
       " 'TCCGGTAG',\n",
       " 'TAATTTTT',\n",
       " 'GACTCGGA',\n",
       " 'CATGCACA',\n",
       " 'ACATGGCC',\n",
       " 'GGCCCCAC',\n",
       " 'CCTGTTGA',\n",
       " 'GTGTTATG',\n",
       " 'CAGGTGTC',\n",
       " 'TTTGGTCG',\n",
       " 'GAATGTCA',\n",
       " 'TTACATAG',\n",
       " 'TATCCATC',\n",
       " 'GCGCATCG',\n",
       " 'TAAACCTG',\n",
       " 'CCATCGTA',\n",
       " 'TTGGTCGT',\n",
       " 'ACCACGGA',\n",
       " 'GATTGTGT',\n",
       " 'ATTTTTGG',\n",
       " 'TGGCCCCA',\n",
       " 'GCCCCACC',\n",
       " 'TGTCGAGT',\n",
       " 'CCCACCAC',\n",
       " 'ACGAATGT',\n",
       " 'AACGACCA',\n",
       " 'CTTACATA',\n",
       " 'GTACAGGT',\n",
       " 'TCCCCCGC',\n",
       " 'TGTTATGC',\n",
       " 'CGCTTACA',\n",
       " 'GGGGATTG',\n",
       " 'CCCCCGCG',\n",
       " 'GACCACGG',\n",
       " 'GCCACATA',\n",
       " 'GCTTACAT',\n",
       " 'CACGGACT',\n",
       " 'ATGGCCAC',\n",
       " 'CGTACAGG',\n",
       " 'CGCATCGT',\n",
       " 'TCACTTTA',\n",
       " 'GTCGAGTG',\n",
       " 'CCCCGCGC',\n",
       " 'ACATCCCC',\n",
       " 'CATGGCCC',\n",
       " 'GGTGTCGA',\n",
       " 'GACTCCGG',\n",
       " 'AAATGGCC',\n",
       " 'GTTATGCC',\n",
       " 'ATGCACAT',\n",
       " 'TAGGTGAC',\n",
       " 'ATGTCATG',\n",
       " 'GTGATAGG',\n",
       " 'TCCATCGT']"
      ]
     },
     "execution_count": 4,
     "metadata": {},
     "output_type": "execute_result"
    }
   ],
   "source": [
    "sequence_reads"
   ]
  },
  {
   "cell_type": "markdown",
   "id": "69527f9b",
   "metadata": {},
   "source": [
    "### Melting Temperature\n",
    "\n",
    "The GC-content (or the ratio of G and C nucleotides) is related to the melting temperature of a DNA double helix structure. \n",
    "\n",
    "The following equation can be used to estimate the melting temperature (in degrees Celsius) of DNA for a particular sequence:\n",
    "\n",
    "\\begin{equation*}\n",
    "t_m = 64.9+0.41(\\%GC)-\\frac{500}{\\text{length of sequence}}\n",
    "\\end{equation*}\n",
    "\n",
    "As a reference, the human genome is known to have between 35%-60% GC-content. \n",
    "\n",
    "<div class=\"alert alert-success\">\n",
    "\n",
    "**Problem 1.** Calculate the melting temperature for the TeleTubby genome using the formula above. Assume that the sequence is 200 nucleotides long, and that the provided read data has equal coverage everywhere so the G-C distribution in the reads is very close to the actual G-C distribution for the genome. \n",
    "    </div>"
   ]
  },
  {
   "cell_type": "code",
   "execution_count": 5,
   "id": "9496e7fb",
   "metadata": {},
   "outputs": [],
   "source": [
    "def GC_percent(sequence_reads):\n",
    "    tot_acid = 0\n",
    "    tot_GC = 0\n",
    "    for sequence in sequence_reads:\n",
    "        for acid in sequence:\n",
    "            if acid == 'C' or acid == 'G':\n",
    "                tot_GC += 1\n",
    "            tot_acid += 1\n",
    "    return tot_GC/tot_acid*100, tot_acid"
   ]
  },
  {
   "cell_type": "code",
   "execution_count": 6,
   "id": "47f4f47b",
   "metadata": {},
   "outputs": [
    {
     "name": "stdout",
     "output_type": "stream",
     "text": [
      "The melting temperature is: 85.02882653061225 degrees C\n"
     ]
    }
   ],
   "source": [
    "gc, seq_len = GC_percent(sequence_reads)\n",
    "print(\"The melting temperature is:\", 64.9 + 0.41*gc - (500/seq_len), \"degrees C\")"
   ]
  },
  {
   "cell_type": "markdown",
   "id": "72723374",
   "metadata": {},
   "source": [
    "## Interpreting Read Quality"
   ]
  },
  {
   "cell_type": "markdown",
   "id": "e9a67a93",
   "metadata": {},
   "source": [
    "Phred33 quality scores are represented as the character with an ASCII code equal to its value + 33 (to make them easy to print alongside genome sequences). The Phred scores $Q$ are related to error probabilities $P$ as: $Q = -10 \\log_{10}(P)$. The table linked here provides a mapping from the Phred values provided in a fastq file and the $Q$ values: [Quality Score Encoding](https://support.illumina.com/help/BaseSpace_OLH_009008/Content/Source/Informatics/BS/QualityScoreEncoding_swBS.htm) \n",
    "\n",
    "<div class=\"alert alert-success\">\n",
    "    \n",
    "**Problem 2.** Using the Phred scores, identify the _least likely to be correct_ read in the TeleTubby.fastq data, which is the read with the lowest probability that it contains _no_ errors.\n",
    "\n",
    "</div>"
   ]
  },
  {
   "cell_type": "code",
   "execution_count": 7,
   "id": "76758368",
   "metadata": {},
   "outputs": [
    {
     "name": "stdout",
     "output_type": "stream",
     "text": [
      "The seqence CCATCGTA has the lowest probability that it contains no errors with a probability of 0.001307810616351377 .\n"
     ]
    }
   ],
   "source": [
    "# Write your code for Problem 2 here. \n",
    "# It should output the read (nucleotide sequence) with the lowest probability of containing no errors.\n",
    "\n",
    "def read_quality(qualities):\n",
    "    lowest_prob_sum = 1\n",
    "    index = 0\n",
    "    lowest_index = 0\n",
    "    for q in qualities:\n",
    "        prob_sum = 0\n",
    "        for letter in q:\n",
    "            #qscore + 33 = ASCII \n",
    "            #P =  10^(-q/10)\n",
    "            qscore = ord(letter)-33\n",
    "            prob_sum+=(10**(-qscore/10))\n",
    "        # print(prob_sum)\n",
    "        if prob_sum < lowest_prob_sum:\n",
    "            lowest_prob_sum = prob_sum\n",
    "            lowest_index = index\n",
    "        index+=1\n",
    "    return lowest_prob_sum,lowest_index\n",
    "prob,index = read_quality(qualities)\n",
    "# print(read_quality(qualities))\n",
    "# print(qualities)\n",
    "print('The seqence',sequence_reads[index],'has the lowest probability that it contains no errors with a probability of',prob,'.')\n",
    "    "
   ]
  },
  {
   "cell_type": "markdown",
   "id": "9d9abeb9",
   "metadata": {},
   "source": [
    "Note: For the following problems, you can ignore the read quality scores, and safely assume there are no actual errors in the provided TeleTubby reads."
   ]
  },
  {
   "cell_type": "markdown",
   "id": "8e55395f",
   "metadata": {},
   "source": [
    "## Frequency analysis\n",
    "\n",
    "Looking at repetitions in the sequence can be helpful in estimating the \"redudancy\" in the organisms. Eucaryote genomes have a lot of redundancy, while smaller organisms like bacteria have highly packed genomes. One heuristic to estimate this before actually performing the assembly could be looking at how often certain $k$-mers are repeated.\n",
    "\n",
    "<div class=\"alert alert-success\">\n",
    "    \n",
    "**Problem 3.**\n",
    "    Print out the 3 most frequent <em>k</em>-mers in the TeleTubby reads with their frequencies. (As in Problem 1, doing this from the reads only produces the same result as from the genome if the read coverage is equal everywhere, but it should be a close estimate.)\n",
    "</div>"
   ]
  },
  {
   "cell_type": "code",
   "execution_count": 8,
   "id": "bdbd6bc8",
   "metadata": {},
   "outputs": [
    {
     "name": "stdout",
     "output_type": "stream",
     "text": [
      "Most frequent k-mers in sequence:\n",
      "('TAATTTTT', 2)\n",
      "('GTGATAGG', 2)\n",
      "('ATAAAATG', 2)\n"
     ]
    }
   ],
   "source": [
    "# Your code here\n",
    "def freq_analysis(k,sequence_reads):\n",
    "#     print(sequence_reads)\n",
    "    if k <= len(sequence_reads[0]):\n",
    "        all_kmer = {}\n",
    "        for read in sequence_reads:\n",
    "            i = 0\n",
    "            while i+k <= len(read):\n",
    "                kmer = read[i:i+k]\n",
    "                if kmer in all_kmer:\n",
    "                    all_kmer[kmer]+=1\n",
    "                else:\n",
    "                    all_kmer[kmer]=1\n",
    "                i+=1\n",
    "        return(all_kmer)\n",
    "    else:\n",
    "        return('k too large')\n",
    "total_kmer_in_seq = freq_analysis(len(sequence_reads[0]),sequence_reads) #Change first parameter as needed (also changed k due to email chain in discussion)\n",
    "try:\n",
    "    sorted_kmer = sorted(total_kmer_in_seq.items(), key = lambda x:x[1])\n",
    "#     print(sorted_kmer)\n",
    "    print('Most frequent k-mers in sequence:')\n",
    "    print(sorted_kmer[-1])\n",
    "    print(sorted_kmer[-2])\n",
    "    print(sorted_kmer[-3])\n",
    "except:\n",
    "    print('Change value of k')"
   ]
  },
  {
   "cell_type": "markdown",
   "id": "728a612b",
   "metadata": {},
   "source": [
    "## Greedy Assembly"
   ]
  },
  {
   "cell_type": "markdown",
   "id": "36c041ab",
   "metadata": {},
   "source": [
    "Given a set of sequence fragments, the objective of assembly can be viewed as finding the shortest sequence that contains all the fragments.\n",
    "\n",
    "One of the approaches to assemble the genome from the given reads is a greedy algorithm:\n",
    "\n",
    "```\n",
    "while (len(fragments) > 1):\n",
    "   calculate pairwise alignments of all pairs of fragments\n",
    "   merge the two fragments with the largest overlap\n",
    "genome = fragment[0] # the single remaining fragment is the genome\n",
    "```\n"
   ]
  },
  {
   "cell_type": "markdown",
   "id": "35f6e176",
   "metadata": {},
   "source": [
    "<div class=\"alert alert-success\">\n",
    "    \n",
    "**Problem 4 (a)**. What would the runtime be of this algorithm, given $n$ $k$-mer reads? (If you are not sure how to express your answer to this question, review [_Cost of Computation_](https://computingbiology.github.io/complexity/).)\n",
    "    </div>"
   ]
  },
  {
   "cell_type": "markdown",
   "id": "93985b9f",
   "metadata": {},
   "source": [
    "<i>Answer</i>: O(n log(n)). This is because calculating the pairwise alignments takes n time, while the combinining of the fragments takes log(n) runs (since you are doubling the size of the fragments each time). Hence the runtime."
   ]
  },
  {
   "cell_type": "markdown",
   "id": "6d868a87",
   "metadata": {},
   "source": [
    "<div class=\"alert alert-success\">\n",
    "\n",
    "**Problem 4 (b)**. Is this algorithm guaranteed to find the correct genome? (A good answer will define what _correct_ means here, and explain why the algorithm is or is not guaranteed to find it.)"
   ]
  },
  {
   "cell_type": "markdown",
   "id": "12bfc75b",
   "metadata": {},
   "source": [
    "<i>Answer</i>:"
   ]
  },
  {
   "cell_type": "markdown",
   "id": "44685e7e",
   "metadata": {},
   "source": [
    "## Graph-based Assembly"
   ]
  },
  {
   "cell_type": "markdown",
   "id": "c9d33cc7",
   "metadata": {},
   "source": [
    "Graphs for genome assembly can be constructed in two ways:\n",
    "\n",
    "- de Bruijn graph: Processing $k-$mers as nodes, with $(k-1)-$mers as edges, and\n",
    "- Overlap graph: Processing $k-$mers as edges, with $(k-1)-$mers as nodes.\n",
    "\n",
    "A de Bruijn graph can be processed to find Euler paths, while Overlap graphs can be processed to find Hamiltonian paths. Both of these methods can be used reconstruct the original genome.\n",
    "\n",
    "<div class=\"alert alert-success\">\n",
    "    \n",
    "**Problem 5.**  Use one of these two techniques to reconstruct the TeleTubby genome from the provided sequence reads. \n",
    "    \n",
    "</div>\n",
    "    \n",
    "We have provided some template code below that may be helpful (but feel free to ignore this is you prefer)."
   ]
  },
  {
   "cell_type": "code",
   "execution_count": 9,
   "id": "c50bc332",
   "metadata": {},
   "outputs": [],
   "source": [
    "# # Read reads into graph\n",
    "# # \"Each read is a 8-mer\"\n",
    "# def build_graph(k_mers):\n",
    "#     edges = []\n",
    "#     nodes = set()\n",
    "#     # k = len(k_mers[0])\n",
    "#     # print(k_mers)\n",
    "#     for read in k_mers:\n",
    "#         # print(read)\n",
    "#         nodes.add(read[:-1])\n",
    "#         nodes.add(read[1:])\n",
    "#         edges.append([read[:-1],read[1:]])\n",
    "#         # print(nodes)\n",
    "#         # break\n",
    "#     # print(nodes)\n",
    "#     # Your code here\n",
    "#     # print(edges)\n",
    "#     return nodes, edges"
   ]
  },
  {
   "cell_type": "code",
   "execution_count": 10,
   "id": "4dddd4da",
   "metadata": {},
   "outputs": [],
   "source": [
    "def Euler_Check(nodes, edges):\n",
    "    \"\"\"Function that takes in the nodes and edges, \n",
    "    then spits out whether an Eulerian path is available\n",
    "    and a revised set of edges if you need to connect two ends to help make cycles\n",
    "    \"\"\"\n",
    "    nodes2 = dict.fromkeys(nodes, 0) #initializes a dictionary with in - out as the value\n",
    "    for edge in edges:\n",
    "        nodes2[edge[0]] -= 1 #edge goes out node\n",
    "        nodes2[edge[1]] += 1 #edge goes in node\n",
    "#         print(\"edge\", edge[2],\"goes out of node\", edge[0],\"and into node\",edge[1])\n",
    "#         print(nodes2)\n",
    "    \n",
    "    connection = [None, None, None] #this connects two nodes that are at the ends\n",
    "    connectionMade = [False, False] #checks if either connectors were created\n",
    "    for node in nodes2:\n",
    "        if nodes2[node] == 1 and not connectionMade[0]:\n",
    "            connection[0] = node\n",
    "            connectionMade[0] = True\n",
    "            \n",
    "        elif nodes2[node] == -1 and not connectionMade[1]:\n",
    "            connection[1] = node\n",
    "            connectionMade[1] = True\n",
    "            \n",
    "        elif nodes2[node] != 0 and connectionMade[0] and connectionMade[1]:\n",
    "            return False, None\n",
    "            \n",
    "    if connection[0] != None and connection[1] != None:\n",
    "        connection[2] = connection[0] + connection[1][1:]\n",
    "    \n",
    "    edges2 = edges #just so you don't modify edges from before\n",
    "    if connection[0] != None and connection[1] != None:\n",
    "        edges2 = edges + [tuple(connection)] #adds a connector\n",
    "\n",
    "    return True, edges2"
   ]
  },
  {
   "cell_type": "code",
   "execution_count": 11,
   "id": "db3dfe4f",
   "metadata": {},
   "outputs": [],
   "source": [
    "def build_graph(k, sequence_reads):\n",
    "    \"\"\"takes in the sequence reads and then compiles all the nodes and edges\n",
    "    also uses the Euler_Check function to add any necessary edges and check if the graph is Eulerian\"\"\"\n",
    "    if k > len(sequence_reads[0]):\n",
    "        print(\"Pick a smaller k!\")\n",
    "        return None, None\n",
    "    edges = []\n",
    "    nodes = set()\n",
    "    for read in sequence_reads:\n",
    "        i = 0\n",
    "        while i+k <= len(read):\n",
    "            tempNode1 = read[i:i+k - 1] #first node of (k-1) mer\n",
    "            tempNode2 = read[i+1:i+k] #second node of (k-1) mer\n",
    "\n",
    "            edges.append((tempNode1, tempNode2, read[i:i+k])) #edges are tuples of node1, node2, and value\n",
    "            nodes.add(tempNode1) \n",
    "            nodes.add(tempNode2)\n",
    "            i += 1\n",
    "    check, edges = Euler_Check(nodes, edges)\n",
    "    if check:\n",
    "        print(\"Eulerian Graph Found!\")\n",
    "        return list(nodes), edges\n",
    "    else:\n",
    "        print(\"Graph not Eulerian!\")\n",
    "        return None, None"
   ]
  },
  {
   "cell_type": "code",
   "execution_count": 12,
   "id": "f60e36d1",
   "metadata": {},
   "outputs": [
    {
     "name": "stdout",
     "output_type": "stream",
     "text": [
      "Eulerian Graph Found!\n"
     ]
    }
   ],
   "source": [
    "# nodes, edges = build_graph(2,sequence_reads)\n",
    "nodes, edges = build_graph(3, ['AAT','ATG','ATG','ATG','CAT','CCA','GAT','GCC','GGA','GGG','GTT','TAA','TGC','TGG','TGT']) #example from reading\n",
    "# nodes, edges = build_graph(3, ['ATGCTA', 'GCTAGC', 'TAGCAC', 'GCACAT', 'ACATGC'])"
   ]
  },
  {
   "cell_type": "code",
   "execution_count": 13,
   "id": "07e59ab6",
   "metadata": {
    "scrolled": true
   },
   "outputs": [
    {
     "name": "stdout",
     "output_type": "stream",
     "text": [
      "('n1', 'n2', 'edge')\n",
      "--------------------\n",
      "('AA', 'AT', 'AAT')\n",
      "('AT', 'TG', 'ATG')\n",
      "('AT', 'TG', 'ATG')\n",
      "('AT', 'TG', 'ATG')\n",
      "('CA', 'AT', 'CAT')\n",
      "('CC', 'CA', 'CCA')\n",
      "('GA', 'AT', 'GAT')\n",
      "('GC', 'CC', 'GCC')\n",
      "('GG', 'GA', 'GGA')\n",
      "('GG', 'GG', 'GGG')\n",
      "('GT', 'TT', 'GTT')\n",
      "('TA', 'AA', 'TAA')\n",
      "('TG', 'GC', 'TGC')\n",
      "('TG', 'GG', 'TGG')\n",
      "('TG', 'GT', 'TGT')\n",
      "('TT', 'TA', 'TTA')\n",
      "nodes:\n",
      "['AA', 'GC', 'TT', 'CA', 'GG', 'AT', 'TA', 'GA', 'TG', 'GT', 'CC']\n"
     ]
    }
   ],
   "source": [
    "print((\"n1\", \"n2\", \"edge\"))\n",
    "print(\"-\"*20)\n",
    "[print(edge) for edge in edges]\n",
    "print(\"nodes:\")\n",
    "print(nodes)"
   ]
  },
  {
   "cell_type": "code",
   "execution_count": 14,
   "id": "93131d20",
   "metadata": {},
   "outputs": [],
   "source": [
    "# Needed to properly visualize graphs\n",
    "%load_ext gvmagic"
   ]
  },
  {
   "cell_type": "code",
   "execution_count": 15,
   "id": "a238b91e",
   "metadata": {
    "scrolled": false
   },
   "outputs": [
    {
     "ename": "FileNotFoundError",
     "evalue": "[WinError 2] The system cannot find the file specified",
     "output_type": "error",
     "traceback": [
      "\u001b[1;31m---------------------------------------------------------------------------\u001b[0m",
      "\u001b[1;31mFileNotFoundError\u001b[0m                         Traceback (most recent call last)",
      "\u001b[1;32m<ipython-input-15-8a75de7e538c>\u001b[0m in \u001b[0;36m<module>\u001b[1;34m\u001b[0m\n\u001b[0;32m      1\u001b[0m \u001b[1;31m# Helper function to visualize graphs\u001b[0m\u001b[1;33m\u001b[0m\u001b[1;33m\u001b[0m\u001b[1;33m\u001b[0m\u001b[0m\n\u001b[1;32m----> 2\u001b[1;33m \u001b[0mget_ipython\u001b[0m\u001b[1;33m(\u001b[0m\u001b[1;33m)\u001b[0m\u001b[1;33m.\u001b[0m\u001b[0mrun_line_magic\u001b[0m\u001b[1;33m(\u001b[0m\u001b[1;34m'dotstr'\u001b[0m\u001b[1;33m,\u001b[0m \u001b[1;34m'utils.viz_graph(nodes, [edge[0:2] for edge in edges]) #has the nodes and the edges defined by the two nodes'\u001b[0m\u001b[1;33m)\u001b[0m\u001b[1;33m\u001b[0m\u001b[1;33m\u001b[0m\u001b[0m\n\u001b[0m",
      "\u001b[1;32m~\\AppData\\Local\\Programs\\Python\\Python37\\lib\\site-packages\\IPython\\core\\interactiveshell.py\u001b[0m in \u001b[0;36mrun_line_magic\u001b[1;34m(self, magic_name, line, _stack_depth)\u001b[0m\n\u001b[0;32m   2334\u001b[0m                 \u001b[0mkwargs\u001b[0m\u001b[1;33m[\u001b[0m\u001b[1;34m'local_ns'\u001b[0m\u001b[1;33m]\u001b[0m \u001b[1;33m=\u001b[0m \u001b[0mself\u001b[0m\u001b[1;33m.\u001b[0m\u001b[0mget_local_scope\u001b[0m\u001b[1;33m(\u001b[0m\u001b[0mstack_depth\u001b[0m\u001b[1;33m)\u001b[0m\u001b[1;33m\u001b[0m\u001b[1;33m\u001b[0m\u001b[0m\n\u001b[0;32m   2335\u001b[0m             \u001b[1;32mwith\u001b[0m \u001b[0mself\u001b[0m\u001b[1;33m.\u001b[0m\u001b[0mbuiltin_trap\u001b[0m\u001b[1;33m:\u001b[0m\u001b[1;33m\u001b[0m\u001b[1;33m\u001b[0m\u001b[0m\n\u001b[1;32m-> 2336\u001b[1;33m                 \u001b[0mresult\u001b[0m \u001b[1;33m=\u001b[0m \u001b[0mfn\u001b[0m\u001b[1;33m(\u001b[0m\u001b[1;33m*\u001b[0m\u001b[0margs\u001b[0m\u001b[1;33m,\u001b[0m \u001b[1;33m**\u001b[0m\u001b[0mkwargs\u001b[0m\u001b[1;33m)\u001b[0m\u001b[1;33m\u001b[0m\u001b[1;33m\u001b[0m\u001b[0m\n\u001b[0m\u001b[0;32m   2337\u001b[0m             \u001b[1;32mreturn\u001b[0m \u001b[0mresult\u001b[0m\u001b[1;33m\u001b[0m\u001b[1;33m\u001b[0m\u001b[0m\n\u001b[0;32m   2338\u001b[0m \u001b[1;33m\u001b[0m\u001b[0m\n",
      "\u001b[1;32m<decorator-gen-119>\u001b[0m in \u001b[0;36mdotstr\u001b[1;34m(self, line)\u001b[0m\n",
      "\u001b[1;32m~\\AppData\\Local\\Programs\\Python\\Python37\\lib\\site-packages\\IPython\\core\\magic.py\u001b[0m in \u001b[0;36m<lambda>\u001b[1;34m(f, *a, **k)\u001b[0m\n\u001b[0;32m    185\u001b[0m     \u001b[1;31m# but it's overkill for just that one bit of state.\u001b[0m\u001b[1;33m\u001b[0m\u001b[1;33m\u001b[0m\u001b[1;33m\u001b[0m\u001b[0m\n\u001b[0;32m    186\u001b[0m     \u001b[1;32mdef\u001b[0m \u001b[0mmagic_deco\u001b[0m\u001b[1;33m(\u001b[0m\u001b[0marg\u001b[0m\u001b[1;33m)\u001b[0m\u001b[1;33m:\u001b[0m\u001b[1;33m\u001b[0m\u001b[1;33m\u001b[0m\u001b[0m\n\u001b[1;32m--> 187\u001b[1;33m         \u001b[0mcall\u001b[0m \u001b[1;33m=\u001b[0m \u001b[1;32mlambda\u001b[0m \u001b[0mf\u001b[0m\u001b[1;33m,\u001b[0m \u001b[1;33m*\u001b[0m\u001b[0ma\u001b[0m\u001b[1;33m,\u001b[0m \u001b[1;33m**\u001b[0m\u001b[0mk\u001b[0m\u001b[1;33m:\u001b[0m \u001b[0mf\u001b[0m\u001b[1;33m(\u001b[0m\u001b[1;33m*\u001b[0m\u001b[0ma\u001b[0m\u001b[1;33m,\u001b[0m \u001b[1;33m**\u001b[0m\u001b[0mk\u001b[0m\u001b[1;33m)\u001b[0m\u001b[1;33m\u001b[0m\u001b[1;33m\u001b[0m\u001b[0m\n\u001b[0m\u001b[0;32m    188\u001b[0m \u001b[1;33m\u001b[0m\u001b[0m\n\u001b[0;32m    189\u001b[0m         \u001b[1;32mif\u001b[0m \u001b[0mcallable\u001b[0m\u001b[1;33m(\u001b[0m\u001b[0marg\u001b[0m\u001b[1;33m)\u001b[0m\u001b[1;33m:\u001b[0m\u001b[1;33m\u001b[0m\u001b[1;33m\u001b[0m\u001b[0m\n",
      "\u001b[1;32m~\\AppData\\Local\\Programs\\Python\\Python37\\lib\\site-packages\\gvmagic.py\u001b[0m in \u001b[0;36mdotstr\u001b[1;34m(self, line)\u001b[0m\n\u001b[0;32m     53\u001b[0m     \u001b[1;33m@\u001b[0m\u001b[0mline_magic\u001b[0m\u001b[1;33m\u001b[0m\u001b[1;33m\u001b[0m\u001b[0m\n\u001b[0;32m     54\u001b[0m     \u001b[1;32mdef\u001b[0m \u001b[0mdotstr\u001b[0m\u001b[1;33m(\u001b[0m\u001b[0mself\u001b[0m\u001b[1;33m,\u001b[0m \u001b[0mline\u001b[0m\u001b[1;33m)\u001b[0m\u001b[1;33m:\u001b[0m\u001b[1;33m\u001b[0m\u001b[1;33m\u001b[0m\u001b[0m\n\u001b[1;32m---> 55\u001b[1;33m         \u001b[0mself\u001b[0m\u001b[1;33m.\u001b[0m\u001b[0m_from_str\u001b[0m\u001b[1;33m(\u001b[0m\u001b[0mline\u001b[0m\u001b[1;33m,\u001b[0m \u001b[1;34m'dot'\u001b[0m\u001b[1;33m)\u001b[0m\u001b[1;33m\u001b[0m\u001b[1;33m\u001b[0m\u001b[0m\n\u001b[0m\u001b[0;32m     56\u001b[0m \u001b[1;33m\u001b[0m\u001b[0m\n\u001b[0;32m     57\u001b[0m     \u001b[1;33m@\u001b[0m\u001b[0mline_magic\u001b[0m\u001b[1;33m\u001b[0m\u001b[1;33m\u001b[0m\u001b[0m\n",
      "\u001b[1;32m~\\AppData\\Local\\Programs\\Python\\Python37\\lib\\site-packages\\gvmagic.py\u001b[0m in \u001b[0;36m_from_str\u001b[1;34m(self, line, layout_engine)\u001b[0m\n\u001b[0;32m    154\u001b[0m     \u001b[1;32mdef\u001b[0m \u001b[0m_from_str\u001b[0m\u001b[1;33m(\u001b[0m\u001b[0mself\u001b[0m\u001b[1;33m,\u001b[0m \u001b[0mline\u001b[0m\u001b[1;33m,\u001b[0m \u001b[0mlayout_engine\u001b[0m\u001b[1;33m)\u001b[0m\u001b[1;33m:\u001b[0m\u001b[1;33m\u001b[0m\u001b[1;33m\u001b[0m\u001b[0m\n\u001b[0;32m    155\u001b[0m         \u001b[0ms\u001b[0m \u001b[1;33m=\u001b[0m \u001b[0mself\u001b[0m\u001b[1;33m.\u001b[0m\u001b[0mshell\u001b[0m\u001b[1;33m.\u001b[0m\u001b[0mev\u001b[0m\u001b[1;33m(\u001b[0m\u001b[0mline\u001b[0m\u001b[1;33m)\u001b[0m\u001b[1;33m\u001b[0m\u001b[1;33m\u001b[0m\u001b[0m\n\u001b[1;32m--> 156\u001b[1;33m         \u001b[0mdata\u001b[0m \u001b[1;33m=\u001b[0m \u001b[0mrun_graphviz\u001b[0m\u001b[1;33m(\u001b[0m\u001b[0ms\u001b[0m\u001b[1;33m,\u001b[0m \u001b[0mlayout_engine\u001b[0m\u001b[1;33m)\u001b[0m\u001b[1;33m\u001b[0m\u001b[1;33m\u001b[0m\u001b[0m\n\u001b[0m\u001b[0;32m    157\u001b[0m         \u001b[1;32mif\u001b[0m \u001b[0mdata\u001b[0m\u001b[1;33m:\u001b[0m\u001b[1;33m\u001b[0m\u001b[1;33m\u001b[0m\u001b[0m\n\u001b[0;32m    158\u001b[0m             \u001b[0mshow_svg\u001b[0m\u001b[1;33m(\u001b[0m\u001b[0mdata\u001b[0m\u001b[1;33m)\u001b[0m\u001b[1;33m\u001b[0m\u001b[1;33m\u001b[0m\u001b[0m\n",
      "\u001b[1;32m~\\AppData\\Local\\Programs\\Python\\Python37\\lib\\site-packages\\gvmagic.py\u001b[0m in \u001b[0;36mrun_graphviz\u001b[1;34m(s, layout_engine)\u001b[0m\n\u001b[0;32m     33\u001b[0m     \u001b[0mcmd\u001b[0m \u001b[1;33m=\u001b[0m \u001b[1;33m[\u001b[0m\u001b[1;34m'dot'\u001b[0m\u001b[1;33m,\u001b[0m \u001b[1;34m'-Tsvg'\u001b[0m\u001b[1;33m,\u001b[0m \u001b[1;34m'-K'\u001b[0m\u001b[1;33m,\u001b[0m \u001b[0mlayout_engine\u001b[0m\u001b[1;33m]\u001b[0m\u001b[1;33m\u001b[0m\u001b[1;33m\u001b[0m\u001b[0m\n\u001b[0;32m     34\u001b[0m \u001b[1;33m\u001b[0m\u001b[0m\n\u001b[1;32m---> 35\u001b[1;33m     \u001b[0mdot\u001b[0m \u001b[1;33m=\u001b[0m \u001b[0mPopen\u001b[0m\u001b[1;33m(\u001b[0m\u001b[0mcmd\u001b[0m\u001b[1;33m,\u001b[0m \u001b[0mstdin\u001b[0m\u001b[1;33m=\u001b[0m\u001b[0mPIPE\u001b[0m\u001b[1;33m,\u001b[0m \u001b[0mstdout\u001b[0m\u001b[1;33m=\u001b[0m\u001b[0mPIPE\u001b[0m\u001b[1;33m,\u001b[0m \u001b[0mstderr\u001b[0m\u001b[1;33m=\u001b[0m\u001b[0mPIPE\u001b[0m\u001b[1;33m)\u001b[0m\u001b[1;33m\u001b[0m\u001b[1;33m\u001b[0m\u001b[0m\n\u001b[0m\u001b[0;32m     36\u001b[0m     \u001b[0mstdoutdata\u001b[0m\u001b[1;33m,\u001b[0m \u001b[0mstderrdata\u001b[0m \u001b[1;33m=\u001b[0m \u001b[0mdot\u001b[0m\u001b[1;33m.\u001b[0m\u001b[0mcommunicate\u001b[0m\u001b[1;33m(\u001b[0m\u001b[0ms\u001b[0m\u001b[1;33m.\u001b[0m\u001b[0mencode\u001b[0m\u001b[1;33m(\u001b[0m\u001b[1;34m'utf-8'\u001b[0m\u001b[1;33m)\u001b[0m\u001b[1;33m)\u001b[0m\u001b[1;33m\u001b[0m\u001b[1;33m\u001b[0m\u001b[0m\n\u001b[0;32m     37\u001b[0m     \u001b[0mstatus\u001b[0m \u001b[1;33m=\u001b[0m \u001b[0mdot\u001b[0m\u001b[1;33m.\u001b[0m\u001b[0mwait\u001b[0m\u001b[1;33m(\u001b[0m\u001b[1;33m)\u001b[0m\u001b[1;33m\u001b[0m\u001b[1;33m\u001b[0m\u001b[0m\n",
      "\u001b[1;32m~\\AppData\\Local\\Programs\\Python\\Python37\\lib\\subprocess.py\u001b[0m in \u001b[0;36m__init__\u001b[1;34m(self, args, bufsize, executable, stdin, stdout, stderr, preexec_fn, close_fds, shell, cwd, env, universal_newlines, startupinfo, creationflags, restore_signals, start_new_session, pass_fds, encoding, errors, text)\u001b[0m\n\u001b[0;32m    798\u001b[0m                                 \u001b[0mc2pread\u001b[0m\u001b[1;33m,\u001b[0m \u001b[0mc2pwrite\u001b[0m\u001b[1;33m,\u001b[0m\u001b[1;33m\u001b[0m\u001b[1;33m\u001b[0m\u001b[0m\n\u001b[0;32m    799\u001b[0m                                 \u001b[0merrread\u001b[0m\u001b[1;33m,\u001b[0m \u001b[0merrwrite\u001b[0m\u001b[1;33m,\u001b[0m\u001b[1;33m\u001b[0m\u001b[1;33m\u001b[0m\u001b[0m\n\u001b[1;32m--> 800\u001b[1;33m                                 restore_signals, start_new_session)\n\u001b[0m\u001b[0;32m    801\u001b[0m         \u001b[1;32mexcept\u001b[0m\u001b[1;33m:\u001b[0m\u001b[1;33m\u001b[0m\u001b[1;33m\u001b[0m\u001b[0m\n\u001b[0;32m    802\u001b[0m             \u001b[1;31m# Cleanup if the child failed starting.\u001b[0m\u001b[1;33m\u001b[0m\u001b[1;33m\u001b[0m\u001b[1;33m\u001b[0m\u001b[0m\n",
      "\u001b[1;32m~\\AppData\\Local\\Programs\\Python\\Python37\\lib\\subprocess.py\u001b[0m in \u001b[0;36m_execute_child\u001b[1;34m(self, args, executable, preexec_fn, close_fds, pass_fds, cwd, env, startupinfo, creationflags, shell, p2cread, p2cwrite, c2pread, c2pwrite, errread, errwrite, unused_restore_signals, unused_start_new_session)\u001b[0m\n\u001b[0;32m   1205\u001b[0m                                          \u001b[0menv\u001b[0m\u001b[1;33m,\u001b[0m\u001b[1;33m\u001b[0m\u001b[1;33m\u001b[0m\u001b[0m\n\u001b[0;32m   1206\u001b[0m                                          \u001b[0mos\u001b[0m\u001b[1;33m.\u001b[0m\u001b[0mfspath\u001b[0m\u001b[1;33m(\u001b[0m\u001b[0mcwd\u001b[0m\u001b[1;33m)\u001b[0m \u001b[1;32mif\u001b[0m \u001b[0mcwd\u001b[0m \u001b[1;32mis\u001b[0m \u001b[1;32mnot\u001b[0m \u001b[1;32mNone\u001b[0m \u001b[1;32melse\u001b[0m \u001b[1;32mNone\u001b[0m\u001b[1;33m,\u001b[0m\u001b[1;33m\u001b[0m\u001b[1;33m\u001b[0m\u001b[0m\n\u001b[1;32m-> 1207\u001b[1;33m                                          startupinfo)\n\u001b[0m\u001b[0;32m   1208\u001b[0m             \u001b[1;32mfinally\u001b[0m\u001b[1;33m:\u001b[0m\u001b[1;33m\u001b[0m\u001b[1;33m\u001b[0m\u001b[0m\n\u001b[0;32m   1209\u001b[0m                 \u001b[1;31m# Child is launched. Close the parent's copy of those pipe\u001b[0m\u001b[1;33m\u001b[0m\u001b[1;33m\u001b[0m\u001b[1;33m\u001b[0m\u001b[0m\n",
      "\u001b[1;31mFileNotFoundError\u001b[0m: [WinError 2] The system cannot find the file specified"
     ]
    }
   ],
   "source": [
    "# Helper function to visualize graphs\n",
    "%dotstr utils.viz_graph(nodes, [edge[0:2] for edge in edges]) #has the nodes and the edges defined by the two nodes"
   ]
  },
  {
   "cell_type": "code",
   "execution_count": 16,
   "id": "70b334e0",
   "metadata": {},
   "outputs": [
    {
     "name": "stdout",
     "output_type": "stream",
     "text": [
      "cycle starting at AA: ['AA', 'AT', 'TG', 'GC', 'CC', 'CA', 'AT', 'TG', 'GG', 'GA', 'AT', 'TG', 'GT', 'TT', 'TA']\n",
      "new cycle starting at GG: ['GG']\n",
      "new updated cycle: ['AA', 'AT', 'TG', 'GC', 'CC', 'CA', 'AT', 'TG', 'GG', 'GG', 'GA', 'AT', 'TG', 'GT', 'TT', 'TA']\n"
     ]
    }
   ],
   "source": [
    "edgeDict = {} #generates a dictionary of edges from the original list\n",
    "for edge in edges:\n",
    "    if edge[:2] not in edgeDict:\n",
    "        edgeDict[edge[:2]] = [edge[2]]\n",
    "    else:\n",
    "        edgeDict[edge[:2]] += [edge[2]]\n",
    "\n",
    "def Single_Cycle(node, edgeDict, edges):\n",
    "    \n",
    "    startNode = node #this is where you start the cycle\n",
    "    curNode = node #currently at the start\n",
    "    cycleStart = True #just a measure to make sure the while loop runs\n",
    "        \n",
    "    cycle = [curNode] #start the cycle at the starting node\n",
    "    while curNode != startNode or cycleStart:\n",
    "        cycleStart = False #the cycle is not set to start\n",
    "        for edge in edges:\n",
    "            if edge[0] == curNode and edgeDict[edge[:2]] != []: #finds an appropriate edge to move in\n",
    "                curNode = edge[1] #moves to the next node\n",
    "                edgeDict[edge[:2]] = edgeDict[edge[:2]][:-1] #removes that edge from the dictionary by removing a list value\n",
    "                cycle.append(curNode)\n",
    "                break #restart the process!\n",
    "                \n",
    "    return cycle[:-1] #return the path of everything but remove the last node so it isn't a cycle\n",
    "\n",
    "def Euler_Cycle(nodes, edgeDict, edges):\n",
    "    starting_cycle = Single_Cycle(nodes[0], edgeDict, edges) #start at the beginning of the list cause why not\n",
    "    print(\"cycle starting at\", nodes[0] +\":\", starting_cycle)\n",
    "    while any(list(edgeDict.values())): #checks if there are any paths that haven't been eliminated\n",
    "        new_starting_node = None\n",
    "        for edge in edges:\n",
    "            if edgeDict[edge[:2]] != [] and edge[0] in starting_cycle: #find new edge in the starting cycle\n",
    "                new_starting_node = edge[0] #start the new cycle here and break the loop\n",
    "                break\n",
    "        \n",
    "        cycle_prime = Single_Cycle(new_starting_node, edgeDict, edges)\n",
    "        print(\"new cycle starting at\", new_starting_node+\":\", cycle_prime)\n",
    "        \n",
    "        insertion_index = starting_cycle.index(new_starting_node)\n",
    "        \n",
    "        for n,i in enumerate(cycle_prime):\n",
    "            starting_cycle.insert(insertion_index + n, i)\n",
    "        \n",
    "        print(\"new updated cycle:\", starting_cycle)\n",
    "    \n",
    "    return starting_cycle\n",
    "\n",
    "EulerianCycle = Euler_Cycle(sorted(nodes), edgeDict, edges)"
   ]
  },
  {
   "cell_type": "code",
   "execution_count": 35,
   "id": "3c4f6bfc",
   "metadata": {},
   "outputs": [],
   "source": [
    "def assemble_sequence(nodes, edges):\n",
    "    assembled_sequence = \"\"\n",
    "    # Your code here\n",
    "    return assembled_sequence"
   ]
  },
  {
   "cell_type": "code",
   "execution_count": null,
   "id": "a5b1b2e3",
   "metadata": {},
   "outputs": [],
   "source": [
    "# Output assembled sequence\n",
    "# Hint: Sequence is 200 nucleotides long\n",
    "\n",
    "assmebled_seq = assemble_sequence(nodes, edges)"
   ]
  },
  {
   "cell_type": "markdown",
   "id": "91454973",
   "metadata": {},
   "source": [
    "<div class=\"alert alert-success\"> \n",
    "    \n",
    "**Problem 6.** Which of the two assembly methods did you use for problem 5, and why? (Hint: consider how the costs scale with the number of reads.)\n",
    "    \n",
    "</div>"
   ]
  },
  {
   "cell_type": "markdown",
   "id": "9c68ae0c",
   "metadata": {},
   "source": [
    "## Part 2: Sequencing SARS-CoV-2 virus"
   ]
  },
  {
   "cell_type": "markdown",
   "id": "bb9104f8",
   "metadata": {},
   "source": [
    "Let's move on from TeleTubbies to real-world organisms. For this problem, you'll assemble a genome for a variant of the SARS-CoV-2 virus. You're given reads from <i>actual</i> genome sequencing runs in the provided `SARS-CoV2.fastq` file. The file is based on the first Covid genome that was submitted on 5 January 2020: [https://www.ncbi.nlm.nih.gov/nuccore/NC_045512](https://www.ncbi.nlm.nih.gov/nuccore/NC_045512) But, you should be reconstructing a sequence from the provided reads without looking at the source sequence.\n",
    "\n",
    "<div class=\"alert alert-success\">\n",
    "    \n",
    "**Problem 7.**  Reconstruct the SATS-CoV2 genome from the provided sequence reads using $k=25$. \n",
    "    \n",
    "</div>\n",
    "\n",
    "You can re-use your implementation from Problem 5 and simply run it on the new data (depending on what you did for Problem 5, that might be enough to solve this problem). \n",
    "\n",
    "Print out your reconstructed sequence to a file `output.txt` (and add this file to the repo you submit). For this part, we will still assume that all the reads are error-free. "
   ]
  },
  {
   "cell_type": "code",
   "execution_count": null,
   "id": "490daca9",
   "metadata": {},
   "outputs": [],
   "source": [
    "# Read sequence reads\n",
    "sequence_reads_covid, qualities_covid = utils.read_fastq('SARS-CoV2.fastq')"
   ]
  },
  {
   "cell_type": "code",
   "execution_count": null,
   "id": "3dfbe110",
   "metadata": {},
   "outputs": [],
   "source": [
    "# Read reads into graph\n",
    "nodes_covid, edges_covid = build_graph(sequence_reads_covid)"
   ]
  },
  {
   "cell_type": "code",
   "execution_count": null,
   "id": "011414e6",
   "metadata": {},
   "outputs": [],
   "source": [
    "# Call main assembly algorithm\n",
    "assmebled_covid_seq = assemble_sequence(nodes_covid, edges_covid)"
   ]
  },
  {
   "cell_type": "code",
   "execution_count": null,
   "id": "b8818bf5",
   "metadata": {},
   "outputs": [],
   "source": [
    "# Write assembled sequence to file\n",
    "with open(\"output.txt\", \"w\") as f:\n",
    "    f.write(assmebled_covid_seq)"
   ]
  },
  {
   "cell_type": "markdown",
   "id": "a3cc7d97",
   "metadata": {},
   "source": [
    "# Part 3: Error-Aware Assembly (Challenge Problem)"
   ]
  },
  {
   "cell_type": "markdown",
   "id": "9c03fa24",
   "metadata": {},
   "source": [
    "<div class=\"alert alert-warning\">\n",
    "    This problem is a \"Challenge Problem\". This means it is a problem of unknown difficulty that might be quite challenging (unlike the earlier problems, we don't have a reference solution for this one, or a clear idea how hard it might be). We do hope all students will at least attempt this and that more ambitious students will work hard to solve it and learn interesting things by the attempt (whether or not it is successful), but not get frustrated if you can't get to the desired answer.  As a \"Challenge Problem\" it means that you shouldn't be worried if you are not able to solve this, though, and you can get full expected credit on this assignment without answering it.\n",
    "</div>\n",
    "\n",
    "\n",
    "In the parts above, we assumed error-free reads while assembling $k$-mers. As much as we'd like that, actual reads can (and do) have errors, captured by their Phred scores. \n",
    "\n",
    "For this question, you're given raw, actual reads from sequencing runs. Download the reads from this file:\n",
    "https://sra-pub-sars-cov2.s3.amazonaws.com/sra-src/SRR11528307/ABS2-LN-R1_cleaned_paired.fastq.gz.  \n",
    "\n",
    "\n",
    "<div class=\"alert alert-success\">\n",
    "    \n",
    "**Problem 8 (Challenge).** Give the reads in the linked fastq file above, including their Phred33 quality score, assemble the most likely genome. Your solution should output the assembled sequence in `challenge.txt`. Provide a brief explantion of how your algorithm works and interesting things you learned in developing it.\n",
    "    \n",
    "</div>\n",
    "    \n",
    "This is an open-ended question. You are free to use any approach to deal with the issue. Make sure you provide your code, along with any assumptions you may have."
   ]
  },
  {
   "cell_type": "markdown",
   "id": "5d7e82e1",
   "metadata": {},
   "source": [
    "_Write a description of your algorithm, and things you learned from working on this here._"
   ]
  },
  {
   "cell_type": "code",
   "execution_count": null,
   "id": "4594e10b",
   "metadata": {},
   "outputs": [],
   "source": [
    "# implementation "
   ]
  },
  {
   "cell_type": "markdown",
   "id": "89a97c21",
   "metadata": {},
   "source": [
    "   <div class=\"alert alert-block alert-danger\">\n",
    "    <center>\n",
    "        \n",
    " **Remember to follow the submission directions above to submit your assignment by 4:59pm on Tuesday, 8 February.**\n",
    "    \n",
    " </center>\n",
    " </div>"
   ]
  }
 ],
 "metadata": {
  "kernelspec": {
   "display_name": "Python 3",
   "language": "python",
   "name": "python3"
  },
  "language_info": {
   "codemirror_mode": {
    "name": "ipython",
    "version": 3
   },
   "file_extension": ".py",
   "mimetype": "text/x-python",
   "name": "python",
   "nbconvert_exporter": "python",
   "pygments_lexer": "ipython3",
   "version": "3.7.5"
  }
 },
 "nbformat": 4,
 "nbformat_minor": 5
}
